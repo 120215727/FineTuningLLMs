{
  "cells": [
    {
      "cell_type": "markdown",
      "metadata": {
        "id": "cxxUodq7a5lG"
      },
      "source": [
        "## Chapter 2: Loading a Quantized Model"
      ],
      "id": "cxxUodq7a5lG"
    },
    {
      "cell_type": "markdown",
      "metadata": {
        "id": "RJox03jea5lI"
      },
      "source": [
        "### Spoilers\n",
        "\n",
        "In this chapter, we’ll:\n",
        "\n",
        "- Understand how quantization works\n",
        "- Explore the pros and cons of using different data types (FP16, BF16, FP32)\n",
        "- Introduce the concept of mixed-precision computing\n",
        "- Use BitsAndBytes to quantize a pretrained model while loading it"
      ],
      "id": "RJox03jea5lI"
    },
    {
      "cell_type": "markdown",
      "metadata": {
        "id": "HxI_inZXa5lI"
      },
      "source": [
        "### Setup"
      ],
      "id": "HxI_inZXa5lI"
    },
    {
      "cell_type": "code",
      "execution_count": 36,
      "metadata": {
        "colab": {
          "base_uri": "https://localhost:8080/"
        },
        "id": "kODUm5BmEQhI",
        "outputId": "4b10238a-4fe7-4538-c320-58143a679b72"
      },
      "outputs": [
        {
          "output_type": "stream",
          "name": "stdout",
          "text": [
            "Requirement already satisfied: datasets in /usr/local/lib/python3.11/dist-packages (3.6.0)\n",
            "Requirement already satisfied: bitsandbytes in /usr/local/lib/python3.11/dist-packages (0.45.5)\n",
            "Requirement already satisfied: trl in /usr/local/lib/python3.11/dist-packages (0.17.0)\n",
            "Requirement already satisfied: filelock in /usr/local/lib/python3.11/dist-packages (from datasets) (3.18.0)\n",
            "Requirement already satisfied: numpy>=1.17 in /usr/local/lib/python3.11/dist-packages (from datasets) (2.0.2)\n",
            "Requirement already satisfied: pyarrow>=15.0.0 in /usr/local/lib/python3.11/dist-packages (from datasets) (18.1.0)\n",
            "Requirement already satisfied: dill<0.3.9,>=0.3.0 in /usr/local/lib/python3.11/dist-packages (from datasets) (0.3.8)\n",
            "Requirement already satisfied: pandas in /usr/local/lib/python3.11/dist-packages (from datasets) (2.2.2)\n",
            "Requirement already satisfied: requests>=2.32.2 in /usr/local/lib/python3.11/dist-packages (from datasets) (2.32.3)\n",
            "Requirement already satisfied: tqdm>=4.66.3 in /usr/local/lib/python3.11/dist-packages (from datasets) (4.67.1)\n",
            "Requirement already satisfied: xxhash in /usr/local/lib/python3.11/dist-packages (from datasets) (3.5.0)\n",
            "Requirement already satisfied: multiprocess<0.70.17 in /usr/local/lib/python3.11/dist-packages (from datasets) (0.70.16)\n",
            "Requirement already satisfied: fsspec<=2025.3.0,>=2023.1.0 in /usr/local/lib/python3.11/dist-packages (from fsspec[http]<=2025.3.0,>=2023.1.0->datasets) (2025.3.0)\n",
            "Requirement already satisfied: huggingface-hub>=0.24.0 in /usr/local/lib/python3.11/dist-packages (from datasets) (0.30.2)\n",
            "Requirement already satisfied: packaging in /usr/local/lib/python3.11/dist-packages (from datasets) (24.2)\n",
            "Requirement already satisfied: pyyaml>=5.1 in /usr/local/lib/python3.11/dist-packages (from datasets) (6.0.2)\n",
            "Requirement already satisfied: torch<3,>=2.0 in /usr/local/lib/python3.11/dist-packages (from bitsandbytes) (2.6.0+cu124)\n",
            "Requirement already satisfied: accelerate>=0.34.0 in /usr/local/lib/python3.11/dist-packages (from trl) (1.6.0)\n",
            "Requirement already satisfied: rich in /usr/local/lib/python3.11/dist-packages (from trl) (13.9.4)\n",
            "Requirement already satisfied: transformers>=4.46.0 in /usr/local/lib/python3.11/dist-packages (from trl) (4.51.3)\n",
            "Requirement already satisfied: psutil in /usr/local/lib/python3.11/dist-packages (from accelerate>=0.34.0->trl) (5.9.5)\n",
            "Requirement already satisfied: safetensors>=0.4.3 in /usr/local/lib/python3.11/dist-packages (from accelerate>=0.34.0->trl) (0.5.3)\n",
            "Requirement already satisfied: aiohttp!=4.0.0a0,!=4.0.0a1 in /usr/local/lib/python3.11/dist-packages (from fsspec[http]<=2025.3.0,>=2023.1.0->datasets) (3.11.15)\n",
            "Requirement already satisfied: typing-extensions>=3.7.4.3 in /usr/local/lib/python3.11/dist-packages (from huggingface-hub>=0.24.0->datasets) (4.13.2)\n",
            "Requirement already satisfied: charset-normalizer<4,>=2 in /usr/local/lib/python3.11/dist-packages (from requests>=2.32.2->datasets) (3.4.1)\n",
            "Requirement already satisfied: idna<4,>=2.5 in /usr/local/lib/python3.11/dist-packages (from requests>=2.32.2->datasets) (3.10)\n",
            "Requirement already satisfied: urllib3<3,>=1.21.1 in /usr/local/lib/python3.11/dist-packages (from requests>=2.32.2->datasets) (2.4.0)\n",
            "Requirement already satisfied: certifi>=2017.4.17 in /usr/local/lib/python3.11/dist-packages (from requests>=2.32.2->datasets) (2025.4.26)\n",
            "Requirement already satisfied: networkx in /usr/local/lib/python3.11/dist-packages (from torch<3,>=2.0->bitsandbytes) (3.4.2)\n",
            "Requirement already satisfied: jinja2 in /usr/local/lib/python3.11/dist-packages (from torch<3,>=2.0->bitsandbytes) (3.1.6)\n",
            "Requirement already satisfied: nvidia-cuda-nvrtc-cu12==12.4.127 in /usr/local/lib/python3.11/dist-packages (from torch<3,>=2.0->bitsandbytes) (12.4.127)\n",
            "Requirement already satisfied: nvidia-cuda-runtime-cu12==12.4.127 in /usr/local/lib/python3.11/dist-packages (from torch<3,>=2.0->bitsandbytes) (12.4.127)\n",
            "Requirement already satisfied: nvidia-cuda-cupti-cu12==12.4.127 in /usr/local/lib/python3.11/dist-packages (from torch<3,>=2.0->bitsandbytes) (12.4.127)\n",
            "Requirement already satisfied: nvidia-cudnn-cu12==9.1.0.70 in /usr/local/lib/python3.11/dist-packages (from torch<3,>=2.0->bitsandbytes) (9.1.0.70)\n",
            "Requirement already satisfied: nvidia-cublas-cu12==12.4.5.8 in /usr/local/lib/python3.11/dist-packages (from torch<3,>=2.0->bitsandbytes) (12.4.5.8)\n",
            "Requirement already satisfied: nvidia-cufft-cu12==11.2.1.3 in /usr/local/lib/python3.11/dist-packages (from torch<3,>=2.0->bitsandbytes) (11.2.1.3)\n",
            "Requirement already satisfied: nvidia-curand-cu12==10.3.5.147 in /usr/local/lib/python3.11/dist-packages (from torch<3,>=2.0->bitsandbytes) (10.3.5.147)\n",
            "Requirement already satisfied: nvidia-cusolver-cu12==11.6.1.9 in /usr/local/lib/python3.11/dist-packages (from torch<3,>=2.0->bitsandbytes) (11.6.1.9)\n",
            "Requirement already satisfied: nvidia-cusparse-cu12==12.3.1.170 in /usr/local/lib/python3.11/dist-packages (from torch<3,>=2.0->bitsandbytes) (12.3.1.170)\n",
            "Requirement already satisfied: nvidia-cusparselt-cu12==0.6.2 in /usr/local/lib/python3.11/dist-packages (from torch<3,>=2.0->bitsandbytes) (0.6.2)\n",
            "Requirement already satisfied: nvidia-nccl-cu12==2.21.5 in /usr/local/lib/python3.11/dist-packages (from torch<3,>=2.0->bitsandbytes) (2.21.5)\n",
            "Requirement already satisfied: nvidia-nvtx-cu12==12.4.127 in /usr/local/lib/python3.11/dist-packages (from torch<3,>=2.0->bitsandbytes) (12.4.127)\n",
            "Requirement already satisfied: nvidia-nvjitlink-cu12==12.4.127 in /usr/local/lib/python3.11/dist-packages (from torch<3,>=2.0->bitsandbytes) (12.4.127)\n",
            "Requirement already satisfied: triton==3.2.0 in /usr/local/lib/python3.11/dist-packages (from torch<3,>=2.0->bitsandbytes) (3.2.0)\n",
            "Requirement already satisfied: sympy==1.13.1 in /usr/local/lib/python3.11/dist-packages (from torch<3,>=2.0->bitsandbytes) (1.13.1)\n",
            "Requirement already satisfied: mpmath<1.4,>=1.1.0 in /usr/local/lib/python3.11/dist-packages (from sympy==1.13.1->torch<3,>=2.0->bitsandbytes) (1.3.0)\n",
            "Requirement already satisfied: regex!=2019.12.17 in /usr/local/lib/python3.11/dist-packages (from transformers>=4.46.0->trl) (2024.11.6)\n",
            "Requirement already satisfied: tokenizers<0.22,>=0.21 in /usr/local/lib/python3.11/dist-packages (from transformers>=4.46.0->trl) (0.21.1)\n",
            "Requirement already satisfied: python-dateutil>=2.8.2 in /usr/local/lib/python3.11/dist-packages (from pandas->datasets) (2.9.0.post0)\n",
            "Requirement already satisfied: pytz>=2020.1 in /usr/local/lib/python3.11/dist-packages (from pandas->datasets) (2025.2)\n",
            "Requirement already satisfied: tzdata>=2022.7 in /usr/local/lib/python3.11/dist-packages (from pandas->datasets) (2025.2)\n",
            "Requirement already satisfied: markdown-it-py>=2.2.0 in /usr/local/lib/python3.11/dist-packages (from rich->trl) (3.0.0)\n",
            "Requirement already satisfied: pygments<3.0.0,>=2.13.0 in /usr/local/lib/python3.11/dist-packages (from rich->trl) (2.19.1)\n",
            "Requirement already satisfied: aiohappyeyeballs>=2.3.0 in /usr/local/lib/python3.11/dist-packages (from aiohttp!=4.0.0a0,!=4.0.0a1->fsspec[http]<=2025.3.0,>=2023.1.0->datasets) (2.6.1)\n",
            "Requirement already satisfied: aiosignal>=1.1.2 in /usr/local/lib/python3.11/dist-packages (from aiohttp!=4.0.0a0,!=4.0.0a1->fsspec[http]<=2025.3.0,>=2023.1.0->datasets) (1.3.2)\n",
            "Requirement already satisfied: attrs>=17.3.0 in /usr/local/lib/python3.11/dist-packages (from aiohttp!=4.0.0a0,!=4.0.0a1->fsspec[http]<=2025.3.0,>=2023.1.0->datasets) (25.3.0)\n",
            "Requirement already satisfied: frozenlist>=1.1.1 in /usr/local/lib/python3.11/dist-packages (from aiohttp!=4.0.0a0,!=4.0.0a1->fsspec[http]<=2025.3.0,>=2023.1.0->datasets) (1.6.0)\n",
            "Requirement already satisfied: multidict<7.0,>=4.5 in /usr/local/lib/python3.11/dist-packages (from aiohttp!=4.0.0a0,!=4.0.0a1->fsspec[http]<=2025.3.0,>=2023.1.0->datasets) (6.4.3)\n",
            "Requirement already satisfied: propcache>=0.2.0 in /usr/local/lib/python3.11/dist-packages (from aiohttp!=4.0.0a0,!=4.0.0a1->fsspec[http]<=2025.3.0,>=2023.1.0->datasets) (0.3.1)\n",
            "Requirement already satisfied: yarl<2.0,>=1.17.0 in /usr/local/lib/python3.11/dist-packages (from aiohttp!=4.0.0a0,!=4.0.0a1->fsspec[http]<=2025.3.0,>=2023.1.0->datasets) (1.20.0)\n",
            "Requirement already satisfied: mdurl~=0.1 in /usr/local/lib/python3.11/dist-packages (from markdown-it-py>=2.2.0->rich->trl) (0.1.2)\n",
            "Requirement already satisfied: six>=1.5 in /usr/local/lib/python3.11/dist-packages (from python-dateutil>=2.8.2->pandas->datasets) (1.17.0)\n",
            "Requirement already satisfied: MarkupSafe>=2.0 in /usr/local/lib/python3.11/dist-packages (from jinja2->torch<3,>=2.0->bitsandbytes) (3.0.2)\n"
          ]
        }
      ],
      "source": [
        "# If you're running on Colab\n",
        "!pip install datasets bitsandbytes trl"
      ],
      "id": "kODUm5BmEQhI"
    },
    {
      "cell_type": "code",
      "execution_count": null,
      "metadata": {
        "id": "ghoYsh-Ma5lJ"
      },
      "outputs": [],
      "source": [
        "# If you're running on runpod.io's Jupyter Template\n",
        "#!pip install datasets bitsandbytes trl transformers peft huggingface-hub accelerate safetensors pandas matplotlib"
      ],
      "id": "ghoYsh-Ma5lJ"
    },
    {
      "cell_type": "markdown",
      "metadata": {
        "id": "EygWIoWHa5lJ"
      },
      "source": [
        "### Imports"
      ],
      "id": "EygWIoWHa5lJ"
    },
    {
      "cell_type": "code",
      "execution_count": 37,
      "metadata": {
        "id": "F-bbRVSba5lJ"
      },
      "outputs": [],
      "source": [
        "import numpy as np\n",
        "import torch\n",
        "import torch.nn as nn\n",
        "from accelerate import init_empty_weights\n",
        "from accelerate.utils.modeling import find_tied_parameters, get_mixed_precision_context_manager\n",
        "from accelerate.utils.operations import convert_outputs_to_fp32\n",
        "from bitsandbytes.nn import Linear8bitLt, Linear4bit, LinearFP4, LinearNF4\n",
        "from collections import Counter\n",
        "from transformers import AutoModelForCausalLM, BitsAndBytesConfig, AutoTokenizer, AutoConfig\n",
        "from transformers.integrations.bitsandbytes import get_keys_to_not_convert\n",
        "from types import MethodType\n",
        "from matplotlib import pyplot as plt"
      ],
      "id": "F-bbRVSba5lJ"
    },
    {
      "cell_type": "markdown",
      "metadata": {
        "id": "N2Sm732ba5lK"
      },
      "source": [
        "### The Goal\n",
        "\n",
        "We quantize models to reduce their memory footprint. We can easily shrink the model’s size to a quarter or an eighth of its original size. Keep in mind, however, that the more a model is quantized (i.e., the fewer bit used\n",
        "to represent its weights), the more likely its performance will be negatively affected."
      ],
      "id": "N2Sm732ba5lK"
    },
    {
      "cell_type": "markdown",
      "metadata": {
        "id": "7ck4CUI3a5lK"
      },
      "source": [
        "### Pre-Reqs\n",
        "\n",
        "| Type | Name | # bits | Nickname |\n",
        "|---|---|---|---|\n",
        "| FP32 | Floating Point | 32 | Full Precision |\n",
        "| BF16 | Brain Float | 16 | Half-Precision |\n",
        "| FP16 | Floating Point | 16 | Half-Precision |\n",
        "| INT8 | Integer | 8 | 8-bit Quantized |\n",
        "| FP4 | Floating Point | 4 | 4-bit Quantized |\n",
        "| NF4 | Normal Float | 4 | 4-bit Quantized |\n",
        "\n",
        "![](https://github.com/dvgodoy/FineTuningLLMs/blob/main/images/ch2/type_sizes.png?raw=True)\n",
        "<center>Figure 2.1 - Data type’s size comparison</center>\n",
        "\n",
        "![](https://github.com/dvgodoy/FineTuningLLMs/blob/main/images/ch2/model_sizes.png?raw=True)\n",
        "<center>Figure 2.2 - Representing the same model using different data types</center>"
      ],
      "id": "7ck4CUI3a5lK"
    },
    {
      "cell_type": "markdown",
      "metadata": {
        "id": "2lgBAQBWa5lK"
      },
      "source": [
        "### Quantization in a Nutshell"
      ],
      "id": "2lgBAQBWa5lK"
    },
    {
      "cell_type": "code",
      "execution_count": 38,
      "metadata": {
        "id": "jUXWVVeea5lK",
        "outputId": "cf3be7b7-ad4d-4d83-bed9-e00db0b61e85",
        "colab": {
          "base_uri": "https://localhost:8080/"
        }
      },
      "outputs": [
        {
          "output_type": "execute_result",
          "data": {
            "text/plain": [
              "(tensor(-0.2066), tensor(0.2097))"
            ]
          },
          "metadata": {},
          "execution_count": 38
        }
      ],
      "source": [
        "torch.manual_seed(11)\n",
        "weights = torch.randn(1000) * .07\n",
        "weights.min(), weights.max()"
      ],
      "id": "jUXWVVeea5lK"
    },
    {
      "cell_type": "code",
      "execution_count": 39,
      "metadata": {
        "id": "tdNH4z3Ka5lL",
        "outputId": "c8a6f228-80a1-48b1-925b-a82077d4db66",
        "colab": {
          "base_uri": "https://localhost:8080/"
        }
      },
      "outputs": [
        {
          "output_type": "execute_result",
          "data": {
            "text/plain": [
              "(tensor([-0.2066, -0.1026,  0.0015,  0.1056,  0.2097]), tensor(0.1041))"
            ]
          },
          "metadata": {},
          "execution_count": 39
        }
      ],
      "source": [
        "n_bins = 4\n",
        "bins = torch.linspace(weights.min(), weights.max(), n_bins+1)\n",
        "bin_width = bins[1]-bins[0]\n",
        "bins, bin_width"
      ],
      "id": "tdNH4z3Ka5lL"
    },
    {
      "cell_type": "code",
      "execution_count": 40,
      "metadata": {
        "id": "DZwu-1KMa5lL",
        "outputId": "065a1f59-41f3-4a1d-e826-9b117b3949d4",
        "colab": {
          "base_uri": "https://localhost:8080/",
          "height": 307
        }
      },
      "outputs": [
        {
          "output_type": "display_data",
          "data": {
            "text/plain": [
              "<Figure size 500x300 with 1 Axes>"
            ],
            "image/png": "[encoded data removed]"
          },
          "metadata": {}
        }
      ],
      "source": [
        "fig, ax = plt.subplots(1, 1, figsize=(5, 3))\n",
        "counts, _, _ = ax.hist(weights, bins=bins)\n",
        "ax.set_xlabel('Values')\n",
        "ax.set_title('Using Four Bins')\n",
        "fig.tight_layout()"
      ],
      "id": "DZwu-1KMa5lL"
    },
    {
      "cell_type": "code",
      "execution_count": 41,
      "metadata": {
        "id": "GOIQs8B2a5lL",
        "outputId": "742a9f47-931f-4651-f586-c3db25439dae",
        "colab": {
          "base_uri": "https://localhost:8080/"
        }
      },
      "outputs": [
        {
          "output_type": "stream",
          "name": "stdout",
          "text": [
            "tensor([-0.0358,  0.0720, -0.0247,  0.0086, -0.0127, -0.1048,  0.0099, -0.0367,\n",
            "        -0.0174, -0.0368,  0.2025, -0.0416,  0.0918,  0.0247, -0.0921, -0.0006,\n",
            "         0.0174,  0.1101, -0.1148, -0.1115])\n",
            "tensor([1, 2, 1, 2, 1, 0, 2, 1, 1, 1, 3, 1, 2, 2, 1, 1, 2, 3, 0, 0])\n"
          ]
        }
      ],
      "source": [
        "bin_indexes = (weights.view(-1, 1) > bins).to(torch.int).argmin(dim=1) - 1\n",
        "print(weights[:20])\n",
        "print(bin_indexes[:20])"
      ],
      "id": "GOIQs8B2a5lL"
    },
    {
      "cell_type": "code",
      "execution_count": 42,
      "metadata": {
        "id": "hUAjyvVga5lL",
        "outputId": "327ef040-366c-4ca3-f5a5-67bd48f10404",
        "colab": {
          "base_uri": "https://localhost:8080/",
          "height": 307
        }
      },
      "outputs": [
        {
          "output_type": "display_data",
          "data": {
            "text/plain": [
              "<Figure size 500x300 with 1 Axes>"
            ],
            "image/png": "[encoded data removed]"
          },
          "metadata": {}
        }
      ],
      "source": [
        "fig, ax = plt.subplots(1, 1, figsize=(5, 3))\n",
        "counts, _, _ = ax.hist(bin_indexes, bins=np.arange(n_bins+1)-.5)\n",
        "ax.set_xticks([0, 1, 2, 3])\n",
        "ax.set_xlabel('Bin Indexes')\n",
        "ax.set_title('Using Four Bins')\n",
        "fig.tight_layout()"
      ],
      "id": "hUAjyvVga5lL"
    },
    {
      "cell_type": "markdown",
      "metadata": {
        "id": "ZptB-NIFa5lL"
      },
      "source": [
        "\n",
        "$$\n",
        "\\Large\n",
        "\\text{n_bins}=2^{\\text{n_bits}} \\implies \\text{n_bits} = \\log_2({\\text{n_bins}})\n",
        "$$\n",
        "\n",
        "<center>Equation 2.1 - Number of bits vs number of bins</center>"
      ],
      "id": "ZptB-NIFa5lL"
    },
    {
      "cell_type": "code",
      "execution_count": 43,
      "metadata": {
        "id": "NYE3DccGa5lL",
        "outputId": "21b3cb83-585b-4ed6-86f4-25807fed56a1",
        "colab": {
          "base_uri": "https://localhost:8080/"
        }
      },
      "outputs": [
        {
          "output_type": "execute_result",
          "data": {
            "text/plain": [
              "tensor([-0.2066, -0.1026,  0.0015,  0.1056])"
            ]
          },
          "metadata": {},
          "execution_count": 43
        }
      ],
      "source": [
        "bin_values = bins[:-1]\n",
        "first_bin = bin_values[0]\n",
        "bin_values"
      ],
      "id": "NYE3DccGa5lL"
    },
    {
      "cell_type": "markdown",
      "metadata": {
        "id": "XSE7E8yza5lL"
      },
      "source": [
        "\n",
        "$$\n",
        "\\Large\n",
        "\\text{approx_value} = \\text{bin_index} * \\text{bin_width} + \\text{first_bin}\n",
        "$$\n",
        "\n",
        "<center>Equation 2.2 - Retrieving the (approximate) original value</center>"
      ],
      "id": "XSE7E8yza5lL"
    },
    {
      "cell_type": "code",
      "execution_count": 44,
      "metadata": {
        "id": "9ZrPq1W2a5lL",
        "outputId": "bc79f73d-ecc8-4d93-ac25-76f166bb4792",
        "colab": {
          "base_uri": "https://localhost:8080/"
        }
      },
      "outputs": [
        {
          "output_type": "execute_result",
          "data": {
            "text/plain": [
              "tensor([-0.2066, -0.1026,  0.0015,  0.1056])"
            ]
          },
          "metadata": {},
          "execution_count": 44
        }
      ],
      "source": [
        "torch.arange(0, n_bins) * bin_width + first_bin"
      ],
      "id": "9ZrPq1W2a5lL"
    },
    {
      "cell_type": "code",
      "execution_count": 45,
      "metadata": {
        "id": "qb_8bViJa5lL",
        "outputId": "82c2a59e-512e-43fa-e05b-6c0251c23cf2",
        "colab": {
          "base_uri": "https://localhost:8080/"
        }
      },
      "outputs": [
        {
          "output_type": "stream",
          "name": "stdout",
          "text": [
            "tensor([-0.1026,  0.0015, -0.1026,  0.0015, -0.1026, -0.2066,  0.0015, -0.1026,\n",
            "        -0.1026, -0.1026,  0.1056, -0.1026,  0.0015,  0.0015, -0.1026, -0.1026,\n",
            "         0.0015,  0.1056, -0.2066, -0.2066])\n"
          ]
        }
      ],
      "source": [
        "approx_values = bin_indexes * bin_width + first_bin\n",
        "print(approx_values[:20])"
      ],
      "id": "qb_8bViJa5lL"
    },
    {
      "cell_type": "code",
      "execution_count": 46,
      "metadata": {
        "id": "2oCljjzVa5lM",
        "outputId": "ae7820e8-ab8c-4790-eb58-be000be312a9",
        "colab": {
          "base_uri": "https://localhost:8080/"
        }
      },
      "outputs": [
        {
          "output_type": "stream",
          "name": "stdout",
          "text": [
            "tensor([-0.0358,  0.0720, -0.0247,  0.0086, -0.0127, -0.1048,  0.0099, -0.0367,\n",
            "        -0.0174, -0.0368,  0.2025, -0.0416,  0.0918,  0.0247, -0.0921, -0.0006,\n",
            "         0.0174,  0.1101, -0.1148, -0.1115])\n"
          ]
        }
      ],
      "source": [
        "print(weights[:20])"
      ],
      "id": "2oCljjzVa5lM"
    },
    {
      "cell_type": "code",
      "execution_count": 47,
      "metadata": {
        "id": "vLqf113Xa5lM",
        "outputId": "c214603c-ecbf-44c9-c753-8704b5cee066",
        "colab": {
          "base_uri": "https://localhost:8080/"
        }
      },
      "outputs": [
        {
          "output_type": "execute_result",
          "data": {
            "text/plain": [
              "tensor(0.0615)"
            ]
          },
          "metadata": {},
          "execution_count": 47
        }
      ],
      "source": [
        "import torch.nn as nn\n",
        "mse_fn = nn.MSELoss()\n",
        "mse_fn(approx_values, weights).sqrt()"
      ],
      "id": "vLqf113Xa5lM"
    },
    {
      "cell_type": "code",
      "execution_count": 48,
      "metadata": {
        "id": "CiYSqgq9a5lM"
      },
      "outputs": [],
      "source": [
        "def quantize(weights, n_bits=8):\n",
        "    assert n_bits <= 16, \"Using more bits may very slow execution and/or crashing.\"\n",
        "    n_bins = 2**n_bits\n",
        "    bins = torch.linspace(weights.min(), weights.max(), n_bins+1)\n",
        "    first_bin = bins[0]\n",
        "    bin_width = bins[1]-bins[0]\n",
        "    bin_indexes = (weights.view(-1, 1) > bins).to(torch.int).argmin(dim=1) - 1\n",
        "    return bin_indexes, bin_width, first_bin\n",
        "\n",
        "def dequantize(bin_indexes, bin_width, first_bin):\n",
        "    approx_values = bin_indexes * bin_width + first_bin\n",
        "    return approx_values"
      ],
      "id": "CiYSqgq9a5lM"
    },
    {
      "cell_type": "code",
      "execution_count": 49,
      "metadata": {
        "id": "pp7G3d40a5lM",
        "outputId": "060c9f9c-90f6-4baf-e5e4-c8c698fbea6b",
        "colab": {
          "base_uri": "https://localhost:8080/"
        }
      },
      "outputs": [
        {
          "output_type": "stream",
          "name": "stdout",
          "text": [
            "2-bit Quantization:\n",
            "tensor([-0.1026,  0.0015, -0.1026,  0.0015, -0.1026, -0.2066])\n",
            "tensor([-0.0358,  0.0720, -0.0247,  0.0086, -0.0127, -0.1048])\n",
            "tensor(0.0615)\n",
            "\n",
            "\n",
            "4-bit Quantization:\n",
            "tensor([-0.0505,  0.0535, -0.0505,  0.0015, -0.0245, -0.1286])\n",
            "tensor([-0.0358,  0.0720, -0.0247,  0.0086, -0.0127, -0.1048])\n",
            "tensor(0.0152)\n",
            "\n",
            "\n",
            "8-bit Quantization:\n",
            "tensor([-0.0359,  0.0714, -0.0261,  0.0080, -0.0131, -0.1058])\n",
            "tensor([-0.0358,  0.0720, -0.0247,  0.0086, -0.0127, -0.1048])\n",
            "tensor(0.0010)\n",
            "\n",
            "\n",
            "16-bit Quantization:\n",
            "tensor([-0.0359,  0.0718, -0.0248,  0.0085, -0.0128, -0.1049])\n",
            "tensor([-0.0358,  0.0720, -0.0247,  0.0086, -0.0127, -0.1048])\n",
            "tensor(0.0001)\n",
            "\n",
            "\n"
          ]
        }
      ],
      "source": [
        "for n_bits in [2, 4, 8, 16]:\n",
        "    res = quantize(weights, n_bits=n_bits)\n",
        "    approx_values = dequantize(*res)\n",
        "    print(f'{n_bits}-bit Quantization:')\n",
        "    print(approx_values[:6])\n",
        "    print(weights[:6])\n",
        "    print(mse_fn(approx_values, weights).sqrt())\n",
        "    print('\\n')"
      ],
      "id": "pp7G3d40a5lM"
    },
    {
      "cell_type": "markdown",
      "metadata": {
        "id": "M-ZR64WLa5lM"
      },
      "source": [
        "****\n",
        "**ASIDE: Weight Distribution of Phi-3's Linear Layers**\n",
        "\n",
        "The following plots show the weight distribution of a large linear layer, `qkv_proj`, within the self-\n",
        "attention block in Phi-3. Other layers, such as `o_proj`, also located within the self-attention block, and\n",
        "`gate_up_proj` and `down_proj`, in the MLP block, have very similar weight distributions. This layer is\n",
        "present in every one of the 32 decoder blocks (indicated by the number in square brackets). You’ll notice\n",
        "that these millions of weights are concentrated within a very narrow range. But there are a few outliers as\n",
        "well, so each subplot also contains the actual range of observed weights in the corresponding layer.\n",
        "\n",
        "![](https://github.com/dvgodoy/FineTuningLLMs/blob/main/images/ch2/self_attn.qkv_proj.png?raw=True)\n",
        "<center>Figure 2.5 - Weight distribution of Phi-3 layers</center>\n",
        "\n",
        "****"
      ],
      "id": "M-ZR64WLa5lM"
    },
    {
      "cell_type": "markdown",
      "metadata": {
        "id": "gaXLr7EOa5lM"
      },
      "source": [
        "### Half-Precision Weights"
      ],
      "id": "gaXLr7EOa5lM"
    },
    {
      "cell_type": "code",
      "execution_count": 50,
      "metadata": {
        "id": "d91Gs5sFa5lM",
        "outputId": "edef5051-eca8-4101-9e6c-1fc1bb396db3",
        "colab": {
          "base_uri": "https://localhost:8080/"
        }
      },
      "outputs": [
        {
          "output_type": "stream",
          "name": "stdout",
          "text": [
            "tensor([-0.0358,  0.0720, -0.0247,  0.0086, -0.0127, -0.1048],\n",
            "       dtype=torch.float16)\n",
            "tensor([-0.0358,  0.0720, -0.0247,  0.0086, -0.0127, -0.1048])\n"
          ]
        }
      ],
      "source": [
        "fp16_weights = weights.to(torch.float16)\n",
        "print(fp16_weights[:6])\n",
        "print(weights[:6])"
      ],
      "id": "d91Gs5sFa5lM"
    },
    {
      "cell_type": "code",
      "execution_count": 51,
      "metadata": {
        "id": "jYGKZCjWa5lM",
        "outputId": "4226d703-79d0-4b8b-df8f-a2219edb6da1",
        "colab": {
          "base_uri": "https://localhost:8080/"
        }
      },
      "outputs": [
        {
          "output_type": "stream",
          "name": "stdout",
          "text": [
            "tensor(1.4244e-05)\n"
          ]
        }
      ],
      "source": [
        "print(mse_fn(fp16_weights, weights).sqrt())"
      ],
      "id": "jYGKZCjWa5lM"
    },
    {
      "cell_type": "markdown",
      "metadata": {
        "id": "qV1Hj1fwa5lM"
      },
      "source": [
        "#### Living on the Edge"
      ],
      "id": "qV1Hj1fwa5lM"
    },
    {
      "cell_type": "code",
      "execution_count": 52,
      "metadata": {
        "id": "02yfO9hqa5lN",
        "outputId": "4c72c0cd-51b0-4e59-b93b-927569964b71",
        "colab": {
          "base_uri": "https://localhost:8080/"
        }
      },
      "outputs": [
        {
          "output_type": "execute_result",
          "data": {
            "text/plain": [
              "tensor(2.8526e-16)"
            ]
          },
          "metadata": {},
          "execution_count": 52
        }
      ],
      "source": [
        "torch.manual_seed(14)\n",
        "tiny_values = torch.randn(1000)*1e-5\n",
        "fp16_tiny_values = tiny_values.to(torch.float16)\n",
        "mse_fn(fp16_tiny_values, tiny_values)"
      ],
      "id": "02yfO9hqa5lN"
    },
    {
      "cell_type": "code",
      "execution_count": 53,
      "metadata": {
        "id": "auyIyhtIa5lN",
        "outputId": "a3718648-de5f-484d-f145-a0b5efbd2f4d",
        "colab": {
          "base_uri": "https://localhost:8080/"
        }
      },
      "outputs": [
        {
          "output_type": "stream",
          "name": "stdout",
          "text": [
            "tensor([-2.7241e-06,  1.1441e-05,  3.7199e-06, -1.1252e-06, -2.4735e-08])\n",
            "tensor([-2.7418e-06,  1.1444e-05,  3.6955e-06, -1.1325e-06, -0.0000e+00],\n",
            "       dtype=torch.float16)\n"
          ]
        }
      ],
      "source": [
        "print(tiny_values[155:160])\n",
        "print(fp16_tiny_values[155:160])"
      ],
      "id": "auyIyhtIa5lN"
    },
    {
      "cell_type": "code",
      "execution_count": 54,
      "metadata": {
        "id": "U1s8GNrRa5lN",
        "outputId": "d71a95d7-0ed2-48b8-dc88-335a5ae7b71f",
        "colab": {
          "base_uri": "https://localhost:8080/"
        }
      },
      "outputs": [
        {
          "output_type": "stream",
          "name": "stdout",
          "text": [
            "tensor([155074.0938,  64881.6602,   2729.5815, -40790.6562,  68846.7188])\n",
            "tensor([    inf,  64896.,   2730., -40800.,     inf], dtype=torch.float16)\n"
          ]
        }
      ],
      "source": [
        "torch.manual_seed(19)\n",
        "large_values = torch.randn(1000)*1e5\n",
        "fp16_large_values = large_values.to(torch.float16)\n",
        "print(large_values[:5])\n",
        "print(fp16_large_values[:5])"
      ],
      "id": "U1s8GNrRa5lN"
    },
    {
      "cell_type": "code",
      "execution_count": 55,
      "metadata": {
        "id": "FX0GMzxWa5lN",
        "outputId": "d22221b1-40b3-4342-affc-5bfb8dcdaa6f",
        "colab": {
          "base_uri": "https://localhost:8080/"
        }
      },
      "outputs": [
        {
          "output_type": "execute_result",
          "data": {
            "text/plain": [
              "finfo(resolution=0.001, min=-65504, max=65504, eps=0.000976562, smallest_normal=6.10352e-05, tiny=6.10352e-05, dtype=float16)"
            ]
          },
          "metadata": {},
          "execution_count": 55
        }
      ],
      "source": [
        "fp16_info = torch.finfo(torch.float16)\n",
        "fp16_info"
      ],
      "id": "FX0GMzxWa5lN"
    },
    {
      "cell_type": "code",
      "execution_count": 56,
      "metadata": {
        "id": "1saCr5Sba5lN",
        "outputId": "30facd4f-a808-4a4e-e7b9-9c49b28021fd",
        "colab": {
          "base_uri": "https://localhost:8080/"
        }
      },
      "outputs": [
        {
          "output_type": "execute_result",
          "data": {
            "text/plain": [
              "5.960464477539063e-08"
            ]
          },
          "metadata": {},
          "execution_count": 56
        }
      ],
      "source": [
        "smallest_subnormal = fp16_info.smallest_normal * 2**-10\n",
        "smallest_subnormal"
      ],
      "id": "1saCr5Sba5lN"
    },
    {
      "cell_type": "markdown",
      "metadata": {
        "id": "GgPM4X8za5lN"
      },
      "source": [
        "### The Brain Float"
      ],
      "id": "GgPM4X8za5lN"
    },
    {
      "cell_type": "code",
      "execution_count": 57,
      "metadata": {
        "id": "i1LJpTzda5lO",
        "outputId": "2ea98ec0-d587-4aa4-e15c-096e0716dc19",
        "colab": {
          "base_uri": "https://localhost:8080/"
        }
      },
      "outputs": [
        {
          "output_type": "stream",
          "name": "stdout",
          "text": [
            "finfo(resolution=0.01, min=-3.38953e+38, max=3.38953e+38, eps=0.0078125, smallest_normal=1.17549e-38, tiny=1.17549e-38, dtype=bfloat16)\n",
            "finfo(resolution=0.001, min=-65504, max=65504, eps=0.000976562, smallest_normal=6.10352e-05, tiny=6.10352e-05, dtype=float16)\n"
          ]
        }
      ],
      "source": [
        "bf16_info = torch.finfo(torch.bfloat16)\n",
        "print(bf16_info)\n",
        "print(fp16_info)"
      ],
      "id": "i1LJpTzda5lO"
    },
    {
      "cell_type": "code",
      "execution_count": 58,
      "metadata": {
        "id": "_dE-vRXva5lO",
        "outputId": "deabb5ab-db00-49d8-9914-f43a43d10011",
        "colab": {
          "base_uri": "https://localhost:8080/"
        }
      },
      "outputs": [
        {
          "output_type": "execute_result",
          "data": {
            "text/plain": [
              "finfo(resolution=1e-06, min=-3.40282e+38, max=3.40282e+38, eps=1.19209e-07, smallest_normal=1.17549e-38, tiny=1.17549e-38, dtype=float32)"
            ]
          },
          "metadata": {},
          "execution_count": 58
        }
      ],
      "source": [
        "fp32_info = torch.finfo(torch.float32)\n",
        "fp32_info"
      ],
      "id": "_dE-vRXva5lO"
    },
    {
      "cell_type": "code",
      "execution_count": 59,
      "metadata": {
        "id": "NjFLnAcMa5lO",
        "outputId": "1e512ca0-b499-409d-b719-f1b74d8620b6",
        "colab": {
          "base_uri": "https://localhost:8080/"
        }
      },
      "outputs": [
        {
          "output_type": "stream",
          "name": "stdout",
          "text": [
            "tensor([0.555555582])\n",
            "tensor([0.555664062], dtype=torch.float16)\n",
            "tensor([0.554687500], dtype=torch.bfloat16)\n"
          ]
        }
      ],
      "source": [
        "x = torch.tensor([0.555555555])\n",
        "torch.set_printoptions(precision=9)\n",
        "print(x)\n",
        "print(x.to(torch.float16))\n",
        "print(x.to(torch.bfloat16))\n",
        "torch.set_printoptions(precision=4)"
      ],
      "id": "NjFLnAcMa5lO"
    },
    {
      "cell_type": "markdown",
      "metadata": {
        "id": "Ciidy9cOa5lO"
      },
      "source": [
        "|Type | Precision | Sub-normal | Min. | Max. |\n",
        "|---|---|---|---|---|\n",
        "|FP32 | e-08 | e-45 | e-38 | e+38 |\n",
        "|BF16 | e-03  | NA | e-38 | e+38 |\n",
        "|FP16 | e-04  | e-08  | e-05 | e+04 |"
      ],
      "id": "Ciidy9cOa5lO"
    },
    {
      "cell_type": "markdown",
      "metadata": {
        "id": "hibHexkMa5lO"
      },
      "source": [
        "### Loading Models\n",
        "\n",
        "****\n",
        "**Summary of \"Loading Models\"**\n",
        "- if supported by your GPU, use `torch.bfloat16` instead of `torch.float16` for all things 16-bit\n",
        " ```python\n",
        " supported = torch.cuda.is_bf16_supported(including_emulation=False)\n",
        " dtypes16 = (torch.bfloat16 if supported else torch.float16)\n",
        " ```\n",
        "- when loading a pretrained model, always specify its `torch_dype` upfront\n",
        " ```python\n",
        " model = AutoModelForCausalLM.from_pretrained(repo_id, device_map='cuda:0', torch_dtype=torch.float32)\n",
        " ```\n",
        "****"
      ],
      "id": "hibHexkMa5lO"
    },
    {
      "cell_type": "code",
      "execution_count": 60,
      "metadata": {
        "id": "p79bmNJHa5lO"
      },
      "outputs": [],
      "source": [
        "def get_parm_dtypes(iterable, top_k=3):\n",
        "    return Counter([p.dtype for p in iterable]).most_common(top_k)"
      ],
      "id": "p79bmNJHa5lO"
    },
    {
      "cell_type": "code",
      "source": [
        "pip install torch torchvision torchaudio --index-url https://download.pytorch.org/whl/cu118"
      ],
      "metadata": {
        "id": "XxclJaoCrTqE",
        "outputId": "45802956-3473-4b6c-cec0-4706249d021c",
        "colab": {
          "base_uri": "https://localhost:8080/"
        }
      },
      "id": "XxclJaoCrTqE",
      "execution_count": 74,
      "outputs": [
        {
          "output_type": "stream",
          "name": "stdout",
          "text": [
            "Looking in indexes: https://download.pytorch.org/whl/cu118\n",
            "Requirement already satisfied: torch in /usr/local/lib/python3.11/dist-packages (2.6.0+cu124)\n",
            "Requirement already satisfied: torchvision in /usr/local/lib/python3.11/dist-packages (0.21.0+cu124)\n",
            "Requirement already satisfied: torchaudio in /usr/local/lib/python3.11/dist-packages (2.6.0+cu124)\n",
            "Requirement already satisfied: filelock in /usr/local/lib/python3.11/dist-packages (from torch) (3.18.0)\n",
            "Requirement already satisfied: typing-extensions>=4.10.0 in /usr/local/lib/python3.11/dist-packages (from torch) (4.13.2)\n",
            "Requirement already satisfied: networkx in /usr/local/lib/python3.11/dist-packages (from torch) (3.4.2)\n",
            "Requirement already satisfied: jinja2 in /usr/local/lib/python3.11/dist-packages (from torch) (3.1.6)\n",
            "Requirement already satisfied: fsspec in /usr/local/lib/python3.11/dist-packages (from torch) (2025.3.0)\n",
            "Requirement already satisfied: nvidia-cuda-nvrtc-cu12==12.4.127 in /usr/local/lib/python3.11/dist-packages (from torch) (12.4.127)\n",
            "Requirement already satisfied: nvidia-cuda-runtime-cu12==12.4.127 in /usr/local/lib/python3.11/dist-packages (from torch) (12.4.127)\n",
            "Requirement already satisfied: nvidia-cuda-cupti-cu12==12.4.127 in /usr/local/lib/python3.11/dist-packages (from torch) (12.4.127)\n",
            "Requirement already satisfied: nvidia-cudnn-cu12==9.1.0.70 in /usr/local/lib/python3.11/dist-packages (from torch) (9.1.0.70)\n",
            "Requirement already satisfied: nvidia-cublas-cu12==12.4.5.8 in /usr/local/lib/python3.11/dist-packages (from torch) (12.4.5.8)\n",
            "Requirement already satisfied: nvidia-cufft-cu12==11.2.1.3 in /usr/local/lib/python3.11/dist-packages (from torch) (11.2.1.3)\n",
            "Requirement already satisfied: nvidia-curand-cu12==10.3.5.147 in /usr/local/lib/python3.11/dist-packages (from torch) (10.3.5.147)\n",
            "Requirement already satisfied: nvidia-cusolver-cu12==11.6.1.9 in /usr/local/lib/python3.11/dist-packages (from torch) (11.6.1.9)\n",
            "Requirement already satisfied: nvidia-cusparse-cu12==12.3.1.170 in /usr/local/lib/python3.11/dist-packages (from torch) (12.3.1.170)\n",
            "Requirement already satisfied: nvidia-cusparselt-cu12==0.6.2 in /usr/local/lib/python3.11/dist-packages (from torch) (0.6.2)\n",
            "Requirement already satisfied: nvidia-nccl-cu12==2.21.5 in /usr/local/lib/python3.11/dist-packages (from torch) (2.21.5)\n",
            "Requirement already satisfied: nvidia-nvtx-cu12==12.4.127 in /usr/local/lib/python3.11/dist-packages (from torch) (12.4.127)\n",
            "Requirement already satisfied: nvidia-nvjitlink-cu12==12.4.127 in /usr/local/lib/python3.11/dist-packages (from torch) (12.4.127)\n",
            "Requirement already satisfied: triton==3.2.0 in /usr/local/lib/python3.11/dist-packages (from torch) (3.2.0)\n",
            "Requirement already satisfied: sympy==1.13.1 in /usr/local/lib/python3.11/dist-packages (from torch) (1.13.1)\n",
            "Requirement already satisfied: mpmath<1.4,>=1.1.0 in /usr/local/lib/python3.11/dist-packages (from sympy==1.13.1->torch) (1.3.0)\n",
            "Requirement already satisfied: numpy in /usr/local/lib/python3.11/dist-packages (from torchvision) (2.0.2)\n",
            "Requirement already satisfied: pillow!=8.3.*,>=5.3.0 in /usr/local/lib/python3.11/dist-packages (from torchvision) (11.2.1)\n",
            "Requirement already satisfied: MarkupSafe>=2.0 in /usr/local/lib/python3.11/dist-packages (from jinja2->torch) (3.0.2)\n"
          ]
        }
      ]
    },
    {
      "cell_type": "code",
      "source": [
        "import torch\n",
        "\n",
        "def check_devices():\n",
        "    print(\"===== 硬件设备检查 =====\")\n",
        "\n",
        "    # 检查 CPU（始终可用）\n",
        "    print(f\"CPU: 可用（默认）\")\n",
        "\n",
        "    # 检查 CUDA（NVIDIA GPU）\n",
        "    if torch.cuda.is_available():\n",
        "        print(f\"CUDA（GPU）: 可用\")\n",
        "        print(f\"GPU 数量: {torch.cuda.device_count()}\")\n",
        "        for i in range(torch.cuda.device_count()):\n",
        "            print(f\"  - GPU {i}: {torch.cuda.get_device_name(i)}\")\n",
        "    else:\n",
        "        print(\"CUDA（GPU）: 不可用\")\n",
        "\n",
        "    # 检查 MPS（Apple Metal）\n",
        "    if hasattr(torch.backends, 'mps') and torch.backends.mps.is_available():\n",
        "        print(\"MPS（Apple Metal）: 可用\")\n",
        "    else:\n",
        "        print(\"MPS（Apple Metal）: 不可用\")\n",
        "\n",
        "check_devices()"
      ],
      "metadata": {
        "id": "hVF6TWzzqQAc",
        "outputId": "6ce922ad-886a-41ee-a767-54023e7b705b",
        "colab": {
          "base_uri": "https://localhost:8080/"
        }
      },
      "id": "hVF6TWzzqQAc",
      "execution_count": 76,
      "outputs": [
        {
          "output_type": "stream",
          "name": "stdout",
          "text": [
            "===== 硬件设备检查 =====\n",
            "CPU: 可用（默认）\n",
            "CUDA（GPU）: 不可用\n",
            "MPS（Apple Metal）: 不可用\n"
          ]
        }
      ]
    },
    {
      "cell_type": "code",
      "source": [
        "# current_device = torch.cuda.current_device()\n",
        "# print(f\"当前使用的 GPU 索引: {current_device}\")"
      ],
      "metadata": {
        "id": "7kjjZ_14rfSr"
      },
      "id": "7kjjZ_14rfSr",
      "execution_count": 79,
      "outputs": []
    },
    {
      "cell_type": "code",
      "execution_count": 84,
      "metadata": {
        "id": "cplfbUnDa5lO",
        "outputId": "8af2299d-3e44-4241-bf75-2f0540b2a8fc",
        "colab": {
          "base_uri": "https://localhost:8080/"
        }
      },
      "outputs": [
        {
          "output_type": "stream",
          "name": "stdout",
          "text": [
            "1324.785664\n",
            "[(torch.float32, 388)]\n",
            "cpu\n",
            "OPTForCausalLM(\n",
            "  (model): OPTModel(\n",
            "    (decoder): OPTDecoder(\n",
            "      (embed_tokens): Embedding(50272, 512, padding_idx=1)\n",
            "      (embed_positions): OPTLearnedPositionalEmbedding(2050, 1024)\n",
            "      (project_out): Linear(in_features=1024, out_features=512, bias=False)\n",
            "      (project_in): Linear(in_features=512, out_features=1024, bias=False)\n",
            "      (layers): ModuleList(\n",
            "        (0-23): 24 x OPTDecoderLayer(\n",
            "          (self_attn): OPTSdpaAttention(\n",
            "            (k_proj): Linear(in_features=1024, out_features=1024, bias=True)\n",
            "            (v_proj): Linear(in_features=1024, out_features=1024, bias=True)\n",
            "            (q_proj): Linear(in_features=1024, out_features=1024, bias=True)\n",
            "            (out_proj): Linear(in_features=1024, out_features=1024, bias=True)\n",
            "          )\n",
            "          (activation_fn): ReLU()\n",
            "          (self_attn_layer_norm): LayerNorm((1024,), eps=1e-05, elementwise_affine=True)\n",
            "          (fc1): Linear(in_features=1024, out_features=4096, bias=True)\n",
            "          (fc2): Linear(in_features=4096, out_features=1024, bias=True)\n",
            "          (final_layer_norm): LayerNorm((1024,), eps=1e-05, elementwise_affine=True)\n",
            "        )\n",
            "      )\n",
            "    )\n",
            "  )\n",
            "  (lm_head): Linear(in_features=512, out_features=50272, bias=False)\n",
            ")\n"
          ]
        }
      ],
      "source": [
        "# model = AutoModelForCausalLM.from_pretrained(\"facebook/opt-350m\", device_map='cpu')\n",
        "model = AutoModelForCausalLM.from_pretrained(\"facebook/opt-350m\")\n",
        "print(model.get_memory_footprint()/1e6)\n",
        "print(get_parm_dtypes(model.parameters()))\n",
        "print(next(model.parameters()).device)\n",
        "print(model)"
      ],
      "id": "cplfbUnDa5lO"
    },
    {
      "cell_type": "code",
      "execution_count": 85,
      "metadata": {
        "id": "jWPkPCnNa5lO",
        "outputId": "5d2532de-cca5-4049-e54a-85b84c367eb3",
        "colab": {
          "base_uri": "https://localhost:8080/"
        }
      },
      "outputs": [
        {
          "output_type": "stream",
          "name": "stdout",
          "text": [
            "--2025-05-09 06:33:40--  https://huggingface.co/facebook/opt-350m/resolve/main/pytorch_model.bin\n",
            "Resolving huggingface.co (huggingface.co)... 18.172.134.124, 18.172.134.24, 18.172.134.88, ...\n",
            "Connecting to huggingface.co (huggingface.co)|18.172.134.124|:443... connected.\n",
            "HTTP request sent, awaiting response... 302 Found\n",
            "Location: https://cdn-lfs.hf.co/repos/2d/51/2d51352256ba577724ec53b247175bd0928dfc5387e98f45a2f3eab954c26eaf/a5223ae6f3c26c6d90003f96a6bcd9a4aaaef0d36fca6469112efeeb985f2842?response-content-disposition=inline%3B+filename*%3DUTF-8%27%27pytorch_model.bin%3B+filename%3D%22pytorch_model.bin%22%3B&response-content-type=application%2Foctet-stream&Expires=1746776020&Policy=eyJTdGF0ZW1lbnQiOlt7IkNvbmRpdGlvbiI6eyJEYXRlTGVzc1RoYW4iOnsiQVdTOkVwb2NoVGltZSI6MTc0Njc3NjAyMH19LCJSZXNvdXJjZSI6Imh0dHBzOi8vY2RuLWxmcy5oZi5jby9yZXBvcy8yZC81MS8yZDUxMzUyMjU2YmE1Nzc3MjRlYzUzYjI0NzE3NWJkMDkyOGRmYzUzODdlOThmNDVhMmYzZWFiOTU0YzI2ZWFmL2E1MjIzYWU2ZjNjMjZjNmQ5MDAwM2Y5NmE2YmNkOWE0YWFhZWYwZDM2ZmNhNjQ2OTExMmVmZWViOTg1ZjI4NDI%7EcmVzcG9uc2UtY29udGVudC1kaXNwb3NpdGlvbj0qJnJlc3BvbnNlLWNvbnRlbnQtdHlwZT0qIn1dfQ__&Signature=KJ-bk2ZMXyNygtc01GMU411TekLUY1G3mrF7h5rI%7EkXkKM5IFg2Kfv9aqo1p2UW5g7SbFklHJA9vx2gVvC6FSRl83NRSlyMEZCWKv%7EDcbhxbjjC2NarDZbt2Mac9SxefFOshr6YDNPXTbmMTLLgqAyu2rJfZTEI17RynaEXi-DAueYr%7EjRjYiT7-jPnuoqOdZqFwghyotdhJmPfSDAhrfG22c5SwnGoT1rk9gblG6EpA8gFIwabuqLOjXNQHAMNpZq28c2MfoVWTeb0EEU2FXul7AesDEl0W5fuXgJ9XQR%7EikO%7EVx2Gt1lITjDsdcnqPUz1mvjURNOib16B9%7EGCnAw__&Key-Pair-Id=K3RPWS32NSSJCE [following]\n",
            "--2025-05-09 06:33:40--  https://cdn-lfs.hf.co/repos/2d/51/2d51352256ba577724ec53b247175bd0928dfc5387e98f45a2f3eab954c26eaf/a5223ae6f3c26c6d90003f96a6bcd9a4aaaef0d36fca6469112efeeb985f2842?response-content-disposition=inline%3B+filename*%3DUTF-8%27%27pytorch_model.bin%3B+filename%3D%22pytorch_model.bin%22%3B&response-content-type=application%2Foctet-stream&Expires=1746776020&Policy=eyJTdGF0ZW1lbnQiOlt7IkNvbmRpdGlvbiI6eyJEYXRlTGVzc1RoYW4iOnsiQVdTOkVwb2NoVGltZSI6MTc0Njc3NjAyMH19LCJSZXNvdXJjZSI6Imh0dHBzOi8vY2RuLWxmcy5oZi5jby9yZXBvcy8yZC81MS8yZDUxMzUyMjU2YmE1Nzc3MjRlYzUzYjI0NzE3NWJkMDkyOGRmYzUzODdlOThmNDVhMmYzZWFiOTU0YzI2ZWFmL2E1MjIzYWU2ZjNjMjZjNmQ5MDAwM2Y5NmE2YmNkOWE0YWFhZWYwZDM2ZmNhNjQ2OTExMmVmZWViOTg1ZjI4NDI%7EcmVzcG9uc2UtY29udGVudC1kaXNwb3NpdGlvbj0qJnJlc3BvbnNlLWNvbnRlbnQtdHlwZT0qIn1dfQ__&Signature=KJ-bk2ZMXyNygtc01GMU411TekLUY1G3mrF7h5rI%7EkXkKM5IFg2Kfv9aqo1p2UW5g7SbFklHJA9vx2gVvC6FSRl83NRSlyMEZCWKv%7EDcbhxbjjC2NarDZbt2Mac9SxefFOshr6YDNPXTbmMTLLgqAyu2rJfZTEI17RynaEXi-DAueYr%7EjRjYiT7-jPnuoqOdZqFwghyotdhJmPfSDAhrfG22c5SwnGoT1rk9gblG6EpA8gFIwabuqLOjXNQHAMNpZq28c2MfoVWTeb0EEU2FXul7AesDEl0W5fuXgJ9XQR%7EikO%7EVx2Gt1lITjDsdcnqPUz1mvjURNOib16B9%7EGCnAw__&Key-Pair-Id=K3RPWS32NSSJCE\n",
            "Resolving cdn-lfs.hf.co (cdn-lfs.hf.co)... 3.167.152.37, 3.167.152.119, 3.167.152.106, ...\n",
            "Connecting to cdn-lfs.hf.co (cdn-lfs.hf.co)|3.167.152.37|:443... connected.\n",
            "HTTP request sent, awaiting response... 200 OK\n",
            "Length: 662513657 (632M) [application/octet-stream]\n",
            "Saving to: ‘pytorch_model.bin’\n",
            "\n",
            "pytorch_model.bin   100%[===================>] 631.82M  62.4MB/s    in 13s     \n",
            "\n",
            "2025-05-09 06:33:54 (47.8 MB/s) - ‘pytorch_model.bin’ saved [662513657/662513657]\n",
            "\n",
            "-rw-r--r-- 1 root root 662513657 May 11  2022 pytorch_model.bin\n"
          ]
        }
      ],
      "source": [
        "!wget https://huggingface.co/facebook/opt-350m/resolve/main/pytorch_model.bin\n",
        "!ls -la pytorch_model.bin"
      ],
      "id": "jWPkPCnNa5lO"
    },
    {
      "cell_type": "code",
      "execution_count": 86,
      "metadata": {
        "id": "CnPJEDD0a5lO",
        "outputId": "487baaf2-797a-4a12-d6cd-0032e16017f3",
        "colab": {
          "base_uri": "https://localhost:8080/"
        }
      },
      "outputs": [
        {
          "output_type": "execute_result",
          "data": {
            "text/plain": [
              "[(torch.float16, 388)]"
            ]
          },
          "metadata": {},
          "execution_count": 86
        }
      ],
      "source": [
        "state_dict = torch.load('pytorch_model.bin')\n",
        "get_parm_dtypes(iter(state_dict.values()))"
      ],
      "id": "CnPJEDD0a5lO"
    },
    {
      "cell_type": "code",
      "execution_count": 111,
      "metadata": {
        "id": "xepkyr07a5lO"
      },
      "outputs": [],
      "source": [
        "model = AutoModelForCausalLM.from_pretrained(\"facebook/opt-350m\",\n",
        "                                             torch_dtype=torch.float32)"
      ],
      "id": "xepkyr07a5lO"
    },
    {
      "cell_type": "code",
      "source": [
        "print(model.get_memory_footprint()/1e6)\n",
        "get_parm_dtypes(model.parameters())"
      ],
      "metadata": {
        "id": "dOkdcvhEx8uA",
        "outputId": "dbdcdd1b-774e-4e92-e62b-9e6131c4cbfb",
        "colab": {
          "base_uri": "https://localhost:8080/"
        }
      },
      "id": "dOkdcvhEx8uA",
      "execution_count": 114,
      "outputs": [
        {
          "output_type": "stream",
          "name": "stdout",
          "text": [
            "1324.785664\n"
          ]
        },
        {
          "output_type": "execute_result",
          "data": {
            "text/plain": [
              "[(torch.float32, 388)]"
            ]
          },
          "metadata": {},
          "execution_count": 114
        }
      ]
    },
    {
      "cell_type": "code",
      "execution_count": 112,
      "metadata": {
        "id": "JQe15oUEa5lP",
        "outputId": "8b515c25-e5a5-448d-9147-3b011d8b79da",
        "colab": {
          "base_uri": "https://localhost:8080/"
        }
      },
      "outputs": [
        {
          "output_type": "stream",
          "name": "stdout",
          "text": [
            "{'input_ids': tensor([[   2,  713,   16,   10, 2007, 1296]]), 'attention_mask': tensor([[1, 1, 1, 1, 1, 1]])}\n",
            "{'input_ids': tensor([[   2,  713,   16,   10, 2007, 1296]]), 'attention_mask': tensor([[1, 1, 1, 1, 1, 1]]), 'labels': tensor([[   2,  713,   16,   10, 2007, 1296]])}\n",
            "cpu\n",
            "{'input_ids': tensor([[   2,  713,   16,   10, 2007, 1296]]), 'attention_mask': tensor([[1, 1, 1, 1, 1, 1]]), 'labels': tensor([[   2,  713,   16,   10, 2007, 1296]])}\n"
          ]
        }
      ],
      "source": [
        "tokenizer = AutoTokenizer.from_pretrained(\"facebook/opt-350m\")\n",
        "batch = tokenizer(['This is a simple test'], return_tensors='pt')\n",
        "print(batch)\n",
        "batch['labels'] = batch['input_ids']\n",
        "print(batch)\n",
        "device = 'cuda' if torch.cuda.is_available() else 'cpu'\n",
        "print(device)\n",
        "batch = {k: v.to(device) for k, v in batch.items()}\n",
        "print(batch)"
      ],
      "id": "JQe15oUEa5lP"
    },
    {
      "cell_type": "code",
      "execution_count": 113,
      "metadata": {
        "id": "aNF8Qoyza5lP",
        "outputId": "307adb7e-a5de-4bdd-ae6a-ed856580a1c2",
        "colab": {
          "base_uri": "https://localhost:8080/"
        }
      },
      "outputs": [
        {
          "output_type": "execute_result",
          "data": {
            "text/plain": [
              "tensor(3.8001, grad_fn=<NllLossBackward0>)"
            ]
          },
          "metadata": {},
          "execution_count": 113
        }
      ],
      "source": [
        "out = model(**batch)\n",
        "out.loss"
      ],
      "id": "aNF8Qoyza5lP"
    },
    {
      "cell_type": "markdown",
      "metadata": {
        "id": "AsF9v6Rna5lP"
      },
      "source": [
        "#### Half-Precision Models (16-bit)"
      ],
      "id": "AsF9v6Rna5lP"
    },
    {
      "cell_type": "code",
      "execution_count": 115,
      "metadata": {
        "id": "gB4w2rL0a5lP",
        "outputId": "10ce6895-7e19-4d4e-a2d1-ac3e44aba7e3",
        "colab": {
          "base_uri": "https://localhost:8080/"
        }
      },
      "outputs": [
        {
          "output_type": "stream",
          "name": "stdout",
          "text": [
            "False\n"
          ]
        },
        {
          "output_type": "execute_result",
          "data": {
            "text/plain": [
              "torch.float16"
            ]
          },
          "metadata": {},
          "execution_count": 115
        }
      ],
      "source": [
        "supported = torch.cuda.is_bf16_supported(including_emulation=False)\n",
        "print(supported)\n",
        "dtype16 = (torch.bfloat16 if supported else torch.float16)\n",
        "dtype16"
      ],
      "id": "gB4w2rL0a5lP"
    },
    {
      "cell_type": "code",
      "execution_count": 116,
      "metadata": {
        "id": "YPcVrajsa5lP",
        "outputId": "00f93e65-8477-43fd-ac6a-b7e12b8035fd",
        "colab": {
          "base_uri": "https://localhost:8080/"
        }
      },
      "outputs": [
        {
          "output_type": "stream",
          "name": "stdout",
          "text": [
            "662.392832\n"
          ]
        },
        {
          "output_type": "execute_result",
          "data": {
            "text/plain": [
              "[(torch.float16, 388)]"
            ]
          },
          "metadata": {},
          "execution_count": 116
        }
      ],
      "source": [
        "model.to(dtype16)\n",
        "print(model.get_memory_footprint()/1e6)\n",
        "get_parm_dtypes(model.parameters())"
      ],
      "id": "YPcVrajsa5lP"
    },
    {
      "cell_type": "code",
      "execution_count": 118,
      "metadata": {
        "id": "ixgRso_la5lP",
        "outputId": "3087852c-89a4-455b-bc26-2359babce60a",
        "colab": {
          "base_uri": "https://localhost:8080/"
        }
      },
      "outputs": [
        {
          "output_type": "stream",
          "name": "stdout",
          "text": [
            "662.392832\n",
            "[(torch.float16, 388)]\n"
          ]
        }
      ],
      "source": [
        "model = AutoModelForCausalLM.from_pretrained(\"facebook/opt-350m\",\n",
        "                                             torch_dtype=dtype16)\n",
        "print(model.get_memory_footprint()/1e6)\n",
        "print(get_parm_dtypes(model.parameters()))"
      ],
      "id": "ixgRso_la5lP"
    },
    {
      "cell_type": "code",
      "execution_count": 119,
      "metadata": {
        "id": "VypS3fDTa5lP",
        "outputId": "6d0b2509-ced8-4f7a-b522-a452e92da0d0",
        "colab": {
          "base_uri": "https://localhost:8080/"
        }
      },
      "outputs": [
        {
          "output_type": "execute_result",
          "data": {
            "text/plain": [
              "tensor(3.8000, grad_fn=<NllLossBackward0>)"
            ]
          },
          "metadata": {},
          "execution_count": 119
        }
      ],
      "source": [
        "out = model(**batch)\n",
        "out.loss"
      ],
      "id": "VypS3fDTa5lP"
    },
    {
      "cell_type": "markdown",
      "metadata": {
        "id": "mFX48WRUa5lP"
      },
      "source": [
        "### Mixed Precision"
      ],
      "id": "mFX48WRUa5lP"
    },
    {
      "cell_type": "code",
      "execution_count": 122,
      "metadata": {
        "id": "2D3vqwY_a5lP"
      },
      "outputs": [],
      "source": [
        "class MixedModel(nn.Module):\n",
        "    def __init__(self, dtype):\n",
        "        super().__init__()\n",
        "        self.a = nn.Linear(1000, 1000, dtype=dtype)\n",
        "        self.b = nn.Linear(1000, 1000, dtype=dtype)\n",
        "\n",
        "    def forward(self, x):\n",
        "        return self.b(self.a(x))"
      ],
      "id": "2D3vqwY_a5lP"
    },
    {
      "cell_type": "code",
      "execution_count": 124,
      "metadata": {
        "id": "aOx_mYGYa5lP"
      },
      "outputs": [],
      "source": [
        "mixed32 = MixedModel(torch.float32)\n"
      ],
      "id": "aOx_mYGYa5lP"
    },
    {
      "cell_type": "code",
      "execution_count": 133,
      "metadata": {
        "id": "h4kLaBYWa5lP",
        "outputId": "09e9b0d4-ad60-4173-9e23-0fef5891c832",
        "colab": {
          "base_uri": "https://localhost:8080/"
        }
      },
      "outputs": [
        {
          "output_type": "stream",
          "name": "stdout",
          "text": [
            "71.6 ms ± 821 µs per loop (mean ± std. dev. of 7 runs, 10 loops each)\n"
          ]
        }
      ],
      "source": [
        "%timeit mixed32(torch.randn(1000, 1000, dtype=torch.float32))"
      ],
      "id": "h4kLaBYWa5lP"
    },
    {
      "cell_type": "code",
      "execution_count": 130,
      "metadata": {
        "id": "JINhBj_ga5lP"
      },
      "outputs": [],
      "source": [
        "mixed16 = MixedModel(torch.float16)"
      ],
      "id": "JINhBj_ga5lP"
    },
    {
      "cell_type": "code",
      "execution_count": 134,
      "metadata": {
        "id": "ojxjj6nva5lP",
        "outputId": "2621da56-d53f-4c16-be20-f16838ba6d40",
        "colab": {
          "base_uri": "https://localhost:8080/"
        }
      },
      "outputs": [
        {
          "output_type": "stream",
          "name": "stdout",
          "text": [
            "712 ms ± 72.5 ms per loop (mean ± std. dev. of 7 runs, 1 loop each)\n"
          ]
        }
      ],
      "source": [
        "%timeit mixed16(torch.randn(1000, 1000, dtype=torch.float16))"
      ],
      "id": "ojxjj6nva5lP"
    },
    {
      "cell_type": "code",
      "execution_count": 136,
      "metadata": {
        "id": "w698u82ca5lQ",
        "outputId": "f8c59ab3-0fa5-4d56-a3c4-cb6f39868446",
        "colab": {
          "base_uri": "https://localhost:8080/"
        }
      },
      "outputs": [
        {
          "output_type": "stream",
          "name": "stdout",
          "text": [
            "877 ms ± 158 ms per loop (mean ± std. dev. of 7 runs, 1 loop each)\n"
          ]
        }
      ],
      "source": [
        "with torch.autocast(device_type=\"cpu\", dtype=torch.float16):\n",
        "    %timeit mixed32(torch.randn(1000, 1000, dtype=torch.float32, device='cpu'))"
      ],
      "id": "w698u82ca5lQ"
    },
    {
      "cell_type": "code",
      "execution_count": 137,
      "metadata": {
        "id": "4NJhwchDa5lQ"
      },
      "outputs": [],
      "source": [
        "with torch.autocast(device_type=\"cpu\", dtype=torch.float16):\n",
        "    res16 = mixed32(torch.randn(1000, 1000, dtype=torch.float32, device='cpu'))\n",
        "\n",
        "res32 = res16.float()"
      ],
      "id": "4NJhwchDa5lQ"
    },
    {
      "cell_type": "code",
      "execution_count": 139,
      "metadata": {
        "id": "qLIvnoCZa5lQ"
      },
      "outputs": [],
      "source": [
        "autocast_context = torch.autocast(device_type=\"cpu\", dtype=torch.float16)\n",
        "# original forward method\n",
        "model_forward_func = mixed32.forward.__func__\n",
        "# wrapping the method with the context manager\n",
        "new_forward = autocast_context(model_forward_func)\n",
        "# assigning the wrapped method back to the model\n",
        "mixed32.forward = MethodType(new_forward, mixed32)"
      ],
      "id": "qLIvnoCZa5lQ"
    },
    {
      "cell_type": "code",
      "execution_count": 141,
      "metadata": {
        "id": "3uvkuNlga5lQ",
        "outputId": "097f4ceb-a830-45f5-82bf-58318ff874c2",
        "colab": {
          "base_uri": "https://localhost:8080/"
        }
      },
      "outputs": [
        {
          "output_type": "execute_result",
          "data": {
            "text/plain": [
              "torch.float16"
            ]
          },
          "metadata": {},
          "execution_count": 141
        }
      ],
      "source": [
        "res = mixed32(torch.randn(1000, 1000, dtype=torch.float32, device='cpu'))\n",
        "res.dtype"
      ],
      "id": "3uvkuNlga5lQ"
    },
    {
      "cell_type": "code",
      "execution_count": 142,
      "metadata": {
        "id": "mVUEzaCUa5lQ"
      },
      "outputs": [],
      "source": [
        "mixed32.forward = MethodType(convert_outputs_to_fp32(mixed32.forward.__func__), mixed32)"
      ],
      "id": "mVUEzaCUa5lQ"
    },
    {
      "cell_type": "code",
      "execution_count": 144,
      "metadata": {
        "id": "guyxP2Xia5lQ",
        "outputId": "851982fd-8aa7-4aab-d855-f1b3705f0bf6",
        "colab": {
          "base_uri": "https://localhost:8080/"
        }
      },
      "outputs": [
        {
          "output_type": "execute_result",
          "data": {
            "text/plain": [
              "torch.float32"
            ]
          },
          "metadata": {},
          "execution_count": 144
        }
      ],
      "source": [
        "res = mixed32(torch.randn(1000, 1000, dtype=torch.float32, device='cpu'))\n",
        "res.dtype"
      ],
      "id": "guyxP2Xia5lQ"
    },
    {
      "cell_type": "code",
      "execution_count": 145,
      "metadata": {
        "id": "wKlkTPtAa5lQ",
        "outputId": "7fd054a0-cd25-446b-edb1-38621ec5c366",
        "colab": {
          "base_uri": "https://localhost:8080/"
        }
      },
      "outputs": [
        {
          "output_type": "stream",
          "name": "stdout",
          "text": [
            "533 ms ± 95.2 ms per loop (mean ± std. dev. of 7 runs, 1 loop each)\n"
          ]
        }
      ],
      "source": [
        "%timeit mixed32(torch.randn(1000, 1000, dtype=torch.float32, device='cpu'))"
      ],
      "id": "wKlkTPtAa5lQ"
    },
    {
      "cell_type": "markdown",
      "metadata": {
        "id": "pFZ01TaSa5lQ"
      },
      "source": [
        "### BitsAndBytes\n",
        "\n",
        "[BitsAndBytes](https://huggingface.co/docs/bitsandbytes/main/en/index) is your go-to package for quantization. From its documentation:\n",
        "\n",
        "\"_bitsandbytes enables accessible large language models via k-bit quantization for PyTorch. bitsandbytes provides three main features for dramatically reducing memory consumption for inference and training:_\n",
        "\n",
        "- _8-bit optimizers uses block-wise quantization to maintain 32-bit performance at a small fraction of the memory cost._\n",
        "- _LLM.Int() or 8-bit quantization enables large language model inference with only half the required memory and without any performance degradation. This method is based on vector-wise quantization to quantize most features to 8-bits and separately treating outliers with 16-bit matrix multiplication._\n",
        "- _QLoRA or 4-bit quantization enables large language model training with several memory-saving techniques that don’t compromise performance. This method quantizes a model to 4-bits and inserts a small set of trainable low-rank adaptation (LoRA) weights to allow training._\""
      ],
      "id": "pFZ01TaSa5lQ"
    },
    {
      "cell_type": "code",
      "execution_count": 147,
      "metadata": {
        "scrolled": true,
        "id": "a4CY089Ia5lQ",
        "outputId": "ffa30f63-f583-40ec-d2c5-e692ec25aca8",
        "colab": {
          "base_uri": "https://localhost:8080/"
        }
      },
      "outputs": [
        {
          "output_type": "execute_result",
          "data": {
            "text/plain": [
              "BitsAndBytesConfig {\n",
              "  \"_load_in_4bit\": false,\n",
              "  \"_load_in_8bit\": false,\n",
              "  \"bnb_4bit_compute_dtype\": \"float32\",\n",
              "  \"bnb_4bit_quant_storage\": \"uint8\",\n",
              "  \"bnb_4bit_quant_type\": \"fp4\",\n",
              "  \"bnb_4bit_use_double_quant\": false,\n",
              "  \"llm_int8_enable_fp32_cpu_offload\": false,\n",
              "  \"llm_int8_has_fp16_weight\": false,\n",
              "  \"llm_int8_skip_modules\": null,\n",
              "  \"llm_int8_threshold\": 6.0,\n",
              "  \"load_in_4bit\": false,\n",
              "  \"load_in_8bit\": false,\n",
              "  \"quant_method\": \"bitsandbytes\"\n",
              "}"
            ]
          },
          "metadata": {},
          "execution_count": 147
        }
      ],
      "source": [
        "bnb_config = BitsAndBytesConfig()\n",
        "bnb_config"
      ],
      "id": "a4CY089Ia5lQ"
    },
    {
      "cell_type": "code",
      "source": [],
      "metadata": {
        "id": "k5aNukqd7uTb"
      },
      "id": "k5aNukqd7uTb",
      "execution_count": null,
      "outputs": []
    },
    {
      "cell_type": "markdown",
      "metadata": {
        "id": "13CvR6BJa5lQ"
      },
      "source": [
        "#### 8-Bit Quantization\n",
        "\n",
        "\"_LLM.int8() is a quantization method that doesn’t degrade performance which makes large model inference more accessible. The key is to extract the outliers from the inputs and weights and multiply them in 16-bit. All other values are multiplied in 8-bit and quantized to Int8 before being dequantized back to 16-bits. The outputs from the 16-bit and 8-bit multiplication are combined to produce the final output._\"\n",
        "\n",
        "Source: [8-bit quantization](https://huggingface.co/docs/bitsandbytes/en/reference/nn/linear8bit)\n",
        "\n",
        "****\n",
        "**Summary of \"8-Bit Quantization\"**\n",
        "- load an 8-bit quantized model in a few lines of code:\n",
        "  ```python\n",
        "    bnb_config = BitsAndBytesConfig(load_in_8bit=True)\n",
        "    model = AutoModelForCausalLM.from_pretrained(repo_id,\n",
        "                                                 device_map='cuda:0',\n",
        "                                                 torch_dtype=torch.float32,\n",
        "                                                 quantization_config=bnb_config)\n",
        "  ```\n",
        "  - quantization modifies the default type of non-quantized layers to `torch.float16` unless we actively provide the `torch_dtype` argument when calling the `from_pretrained()` method\n",
        "- 8-bit quantization replaces all linear layers except for:\n",
        "  - layers with tied (shared) weights\n",
        "  - the last layer in the model\n",
        "  - any layer named `lm_head`\n",
        "- if you want to skip additional modules, use the `llm_int8_skip_modules` configuration argument and make sure to manually include the layers with tied (shared) weights to avoid errors\n",
        "- computation (inside the quantized layers) happens in `torch.float16`\n",
        "****"
      ],
      "id": "13CvR6BJa5lQ"
    },
    {
      "cell_type": "code",
      "execution_count": null,
      "metadata": {
        "id": "CtSeSlQea5lQ",
        "outputId": "dd3adb6f-a9eb-4b1c-dbf7-878070ea7594"
      },
      "outputs": [
        {
          "name": "stdout",
          "output_type": "stream",
          "text": [
            "359.354368\n",
            "[(torch.float16, 242), (torch.int8, 146)]\n"
          ]
        }
      ],
      "source": [
        "bnb_config_q8 = BitsAndBytesConfig(load_in_8bit=True)\n",
        "model_q8 = AutoModelForCausalLM.from_pretrained(\"facebook/opt-350m\",\n",
        "                                                device_map='cuda:0',\n",
        "                                                quantization_config=bnb_config_q8)\n",
        "print(model_q8.get_memory_footprint()/1e6)\n",
        "print(get_parm_dtypes(model_q8.parameters()))"
      ],
      "id": "CtSeSlQea5lQ"
    },
    {
      "cell_type": "code",
      "execution_count": null,
      "metadata": {
        "id": "o5ZrB3C7a5lR",
        "outputId": "b4ccdfbb-8e30-4b6d-97fd-80517c64dcd1"
      },
      "outputs": [
        {
          "data": {
            "text/plain": [
              "tensor(nan, device='cuda:0', dtype=torch.float16, grad_fn=<NllLossBackward0>)"
            ]
          },
          "execution_count": 77,
          "metadata": {},
          "output_type": "execute_result"
        }
      ],
      "source": [
        "# you may not get a NaN back, as it depends on the environment\n",
        "out = model_q8(**batch)\n",
        "out.loss"
      ],
      "id": "o5ZrB3C7a5lR"
    },
    {
      "cell_type": "code",
      "execution_count": null,
      "metadata": {
        "id": "9w35voKya5lR",
        "outputId": "bc497005-8a34-4a9f-f40e-9e7cddb71868"
      },
      "outputs": [
        {
          "name": "stdout",
          "output_type": "stream",
          "text": [
            "415.670272\n",
            "[(torch.float32, 242), (torch.int8, 146)]\n"
          ]
        }
      ],
      "source": [
        "model_q8_32 = AutoModelForCausalLM.from_pretrained(\"facebook/opt-350m\",\n",
        "                                                device_map='cuda:0',\n",
        "                                                quantization_config=bnb_config_q8,\n",
        "                                                torch_dtype=torch.float32)\n",
        "print(model_q8_32.get_memory_footprint()/1e6)\n",
        "print(get_parm_dtypes(model_q8_32.parameters()))"
      ],
      "id": "9w35voKya5lR"
    },
    {
      "cell_type": "code",
      "execution_count": null,
      "metadata": {
        "id": "cayIiy0la5lR",
        "outputId": "3cf13384-b198-409f-af88-466675db14e4"
      },
      "outputs": [
        {
          "name": "stderr",
          "output_type": "stream",
          "text": [
            "UserWarning: MatMul8bitLt: inputs will be cast from torch.float32 to float16 during quantization\n",
            "  warnings.warn(f\"MatMul8bitLt: inputs will be cast from {A.dtype} to float16 during quantization\")\n"
          ]
        },
        {
          "data": {
            "text/plain": [
              "tensor(3.8024, device='cuda:0', grad_fn=<NllLossBackward0>)"
            ]
          },
          "execution_count": 42,
          "metadata": {},
          "output_type": "execute_result"
        }
      ],
      "source": [
        "out = model_q8_32(**batch)\n",
        "out.loss"
      ],
      "id": "cayIiy0la5lR"
    },
    {
      "cell_type": "markdown",
      "metadata": {
        "id": "a6OzsJ30a5lR"
      },
      "source": [
        "##### Quantized Linear Layers"
      ],
      "id": "a6OzsJ30a5lR"
    },
    {
      "cell_type": "code",
      "execution_count": null,
      "metadata": {
        "id": "srVFauxja5lR",
        "outputId": "073bc6ba-4279-42a3-875d-22dcf77db988"
      },
      "outputs": [
        {
          "data": {
            "text/plain": [
              "OPTDecoderLayer(\n",
              "  (self_attn): OPTAttention(\n",
              "    (k_proj): Linear8bitLt(in_features=1024, out_features=1024, bias=True)\n",
              "    (v_proj): Linear8bitLt(in_features=1024, out_features=1024, bias=True)\n",
              "    (q_proj): Linear8bitLt(in_features=1024, out_features=1024, bias=True)\n",
              "    (out_proj): Linear8bitLt(in_features=1024, out_features=1024, bias=True)\n",
              "  )\n",
              "  (activation_fn): ReLU()\n",
              "  (self_attn_layer_norm): LayerNorm((1024,), eps=1e-05, elementwise_affine=True)\n",
              "  (fc1): Linear8bitLt(in_features=1024, out_features=4096, bias=True)\n",
              "  (fc2): Linear8bitLt(in_features=4096, out_features=1024, bias=True)\n",
              "  (final_layer_norm): LayerNorm((1024,), eps=1e-05, elementwise_affine=True)\n",
              ")"
            ]
          },
          "execution_count": 51,
          "metadata": {},
          "output_type": "execute_result"
        }
      ],
      "source": [
        "dec_layer = model_q8_32.model.decoder.layers[0]\n",
        "dec_layer"
      ],
      "id": "srVFauxja5lR"
    },
    {
      "cell_type": "code",
      "execution_count": null,
      "metadata": {
        "id": "g3f6_qhta5lR",
        "outputId": "6e771fc8-fc27-41a3-c538-ecfdef0fad55"
      },
      "outputs": [
        {
          "data": {
            "text/plain": [
              "Linear8bitLt(in_features=1024, out_features=1024, bias=True)"
            ]
          },
          "execution_count": 52,
          "metadata": {},
          "output_type": "execute_result"
        }
      ],
      "source": [
        "q8_layer = dec_layer.self_attn.k_proj\n",
        "q8_layer"
      ],
      "id": "g3f6_qhta5lR"
    },
    {
      "cell_type": "code",
      "execution_count": null,
      "metadata": {
        "id": "vwALba6ra5lR",
        "outputId": "70f4d909-cc84-49e3-8912-04020a0a5198"
      },
      "outputs": [
        {
          "data": {
            "text/plain": [
              "OrderedDict([('weight',\n",
              "              tensor([[ -67, -113,  -89,  ...,   65,  -16,  -87],\n",
              "                      [  60,  120,   90,  ...,  -50,   32,   80],\n",
              "                      [  47,  127,   86,  ...,  -34,    8,   90],\n",
              "                      ...,\n",
              "                      [ -65,   65,   34,  ...,  -64,   35,   64],\n",
              "                      [  57,   67,   21,  ...,   63,  -64,  -64],\n",
              "                      [ -64,   63,  -11,  ...,  -64,   34,   63]], device='cuda:0',\n",
              "                     dtype=torch.int8)),\n",
              "             ('bias',\n",
              "              tensor([-0.0134,  0.0082,  0.0161,  ..., -0.0242, -0.0150,  0.0203],\n",
              "                     device='cuda:0')),\n",
              "             ('SCB',\n",
              "              tensor([0.1250, 0.1252, 0.1250,  ..., 0.1252, 0.1250, 0.1254], device='cuda:0')),\n",
              "             ('weight_format', tensor(0, dtype=torch.uint8))])"
            ]
          },
          "execution_count": 53,
          "metadata": {},
          "output_type": "execute_result"
        }
      ],
      "source": [
        "q8_state = q8_layer.state_dict()\n",
        "q8_state"
      ],
      "id": "vwALba6ra5lR"
    },
    {
      "cell_type": "code",
      "execution_count": null,
      "metadata": {
        "id": "LHoBw_k2a5lR",
        "outputId": "6837673a-d70b-4e13-ef4a-968135b1c3e4"
      },
      "outputs": [
        {
          "name": "stdout",
          "output_type": "stream",
          "text": [
            "Embedding(50272, 512, padding_idx=1)\n",
            "Linear(in_features=512, out_features=50272, bias=False)\n"
          ]
        }
      ],
      "source": [
        "print(model.model.decoder.embed_tokens)\n",
        "print(model.lm_head)"
      ],
      "id": "LHoBw_k2a5lR"
    },
    {
      "cell_type": "code",
      "execution_count": null,
      "metadata": {
        "id": "IqvKn2Wta5lR",
        "outputId": "b62f6412-7a56-4721-ee03-f573ca5de204"
      },
      "outputs": [
        {
          "data": {
            "text/plain": [
              "True"
            ]
          },
          "execution_count": 61,
          "metadata": {},
          "output_type": "execute_result"
        }
      ],
      "source": [
        "torch.allclose(model.model.decoder.embed_tokens.weight,\n",
        "               model.lm_head.weight)"
      ],
      "id": "IqvKn2Wta5lR"
    },
    {
      "cell_type": "code",
      "execution_count": null,
      "metadata": {
        "id": "EixEYIUUa5lR",
        "outputId": "925c3655-ffc0-4f1c-97d3-207efa2f64d5"
      },
      "outputs": [
        {
          "data": {
            "text/plain": [
              "(True, [['lm_head.weight', 'model.decoder.embed_tokens.weight']])"
            ]
          },
          "execution_count": 57,
          "metadata": {},
          "output_type": "execute_result"
        }
      ],
      "source": [
        "config = AutoConfig.from_pretrained('facebook/opt-350m')\n",
        "\n",
        "config.tie_word_embeddings, find_tied_parameters(model)"
      ],
      "id": "EixEYIUUa5lR"
    },
    {
      "cell_type": "code",
      "execution_count": null,
      "metadata": {
        "id": "xGrbY5EAa5lR",
        "outputId": "45ac8289-ba82-46de-c715-5c3c6e84a67a"
      },
      "outputs": [
        {
          "data": {
            "text/plain": [
              "Parameter containing:\n",
              "tensor(..., device='meta', size=(50272, 512), requires_grad=True)"
            ]
          },
          "execution_count": 58,
          "metadata": {},
          "output_type": "execute_result"
        }
      ],
      "source": [
        "with init_empty_weights(): # loads meta tensors only\n",
        "    empty_model = AutoModelForCausalLM.from_config(config)\n",
        "\n",
        "empty_model.lm_head.weight"
      ],
      "id": "xGrbY5EAa5lR"
    },
    {
      "cell_type": "code",
      "execution_count": null,
      "metadata": {
        "id": "LEYtyjE6a5lR",
        "outputId": "93bd9dfa-8e4a-4768-9183-22d5ad3f93f3"
      },
      "outputs": [
        {
          "data": {
            "text/plain": [
              "['lm_head', 'model.decoder.embed_tokens']"
            ]
          },
          "execution_count": 59,
          "metadata": {},
          "output_type": "execute_result"
        }
      ],
      "source": [
        "skip_modules = get_keys_to_not_convert(empty_model)\n",
        "skip_modules"
      ],
      "id": "LEYtyjE6a5lR"
    },
    {
      "cell_type": "code",
      "execution_count": null,
      "metadata": {
        "id": "MTRbKRXHa5lR",
        "outputId": "cf89f18e-5906-4111-c98b-4e8a65de04f6"
      },
      "outputs": [
        {
          "name": "stdout",
          "output_type": "stream",
          "text": [
            "lm_head: torch.float32\n",
            "model.decoder.embed_tokens: torch.float32\n"
          ]
        }
      ],
      "source": [
        "for module in skip_modules:\n",
        "    print(f'{module}: {next(model_q8_32.get_submodule(module).parameters()).dtype}')"
      ],
      "id": "MTRbKRXHa5lR"
    },
    {
      "cell_type": "markdown",
      "metadata": {
        "id": "bI26oBxMa5lR"
      },
      "source": [
        "#### `llm_int8_skip_modules`\n",
        "\n",
        "If your model has tied weights, and you choose to use your own list of modules to skip, you\n",
        "must add one of the tied layers to your list. If you don’t, you may get the following\n",
        "exception:\n",
        "\n",
        "***\n",
        "`AttributeError: 'Parameter' object has no attribute 'SCB'`\n",
        "***\n",
        "\n",
        "```python\n",
        "# This configuration WILL raise an exception\n",
        "# while trying to load weights for the tied layer\n",
        "# bnb_config_skip = BitsAndBytesConfig(load_in_8bit=True,\n",
        "#                                      llm_int8_skip_modules=['o_proj'])\n",
        "\n",
        "# This configuration works fine because\n",
        "# the tied layer, lm_head, is in the list\n",
        "bnb_config_skip = BitsAndBytesConfig(\n",
        "        load_in_8bit=True,\n",
        "        llm_int8_skip_modules=['o_proj', 'lm_head'])\n",
        "\n",
        "model_skip = AutoModelForCausalLM.from_pretrained(\"facebook/opt-350m\",\n",
        "                                                  device_map='cuda:0',\n",
        "                                                  torch_dtype=torch.float32,\n",
        "                                                  quantization_config=bnb_config_skip)\n",
        "```"
      ],
      "id": "bI26oBxMa5lR"
    },
    {
      "cell_type": "markdown",
      "metadata": {
        "id": "7HOSKlpva5lS"
      },
      "source": [
        "##### 8-bit Layers\n",
        "\n",
        "\"*In order to quantize a linear layer one should first load the original fp16 / bf16 weights into the Linear8bitLt module, then call int8_module.to(\"cuda\") to quantize the fp16 weights.*\"\n",
        "\n",
        "Source: [8-bit quantization](https://huggingface.co/docs/bitsandbytes/en/reference/nn/linear8bit)"
      ],
      "id": "7HOSKlpva5lS"
    },
    {
      "cell_type": "code",
      "execution_count": null,
      "metadata": {
        "id": "w8DAu-CJa5lS",
        "outputId": "92b996c1-8e24-401b-ec51-77e592e43e85"
      },
      "outputs": [
        {
          "data": {
            "text/plain": [
              "OrderedDict([('weight',\n",
              "              tensor([[-0.2220, -0.0085,  0.3072, -0.2097,  0.0531,  0.1224,  0.0525, -0.2350,\n",
              "                        0.0456,  0.2687],\n",
              "                      [-0.1459,  0.1786, -0.1443, -0.0233,  0.1689,  0.0015, -0.2514,  0.1644,\n",
              "                        0.1920,  0.1678],\n",
              "                      [ 0.2346,  0.1411,  0.2128,  0.0519,  0.2147, -0.2786, -0.0433, -0.0364,\n",
              "                       -0.1504,  0.0823],\n",
              "                      [ 0.2388, -0.2134, -0.1620, -0.1023,  0.2433, -0.2680,  0.3099, -0.1933,\n",
              "                       -0.0471, -0.0391],\n",
              "                      [-0.1273,  0.2197, -0.0136, -0.1938, -0.1746,  0.0404,  0.0711, -0.1730,\n",
              "                        0.0539, -0.1992],\n",
              "                      [-0.0051,  0.1373, -0.0267, -0.0907, -0.0107,  0.1108, -0.1566,  0.0172,\n",
              "                        0.2075, -0.0028],\n",
              "                      [ 0.2082, -0.2857, -0.2640, -0.1436,  0.1704,  0.1908, -0.2350,  0.1187,\n",
              "                       -0.0568,  0.0916],\n",
              "                      [ 0.2974, -0.3061,  0.0559,  0.1899,  0.0265, -0.1893, -0.0582, -0.0943,\n",
              "                        0.2451,  0.2825],\n",
              "                      [-0.1241, -0.3106, -0.1002, -0.1745,  0.2693,  0.2985,  0.1633, -0.0270,\n",
              "                       -0.3049,  0.0227],\n",
              "                      [-0.1217,  0.0035, -0.1481, -0.0330,  0.1787,  0.3123,  0.2600, -0.1720,\n",
              "                        0.2059,  0.2057]])),\n",
              "             ('bias',\n",
              "              tensor([ 0.1269,  0.2999,  0.0252, -0.0380, -0.1788, -0.0704,  0.1124, -0.2233,\n",
              "                       0.0653, -0.0854]))])"
            ]
          },
          "execution_count": 63,
          "metadata": {},
          "output_type": "execute_result"
        }
      ],
      "source": [
        "n_in = 10\n",
        "n_out = 10\n",
        "\n",
        "torch.manual_seed(11)\n",
        "fp_layer = nn.Linear(n_in, n_out)\n",
        "\n",
        "int8_layer = Linear8bitLt(n_in, n_out, has_fp16_weights=False)\n",
        "\n",
        "int8_layer.load_state_dict(fp_layer.state_dict())\n",
        "int8_layer.state_dict()"
      ],
      "id": "w8DAu-CJa5lS"
    },
    {
      "cell_type": "code",
      "execution_count": null,
      "metadata": {
        "id": "37Wat9EKa5lS",
        "outputId": "35afb889-72f8-4a32-ff6f-e84bf6c2a36a"
      },
      "outputs": [
        {
          "data": {
            "text/plain": [
              "OrderedDict([('weight',\n",
              "              tensor([[ -92,   -4,  127,  -87,   22,   51,   22,  -97,   19,  111],\n",
              "                      [ -74,   90,  -73,  -12,   85,    1, -127,   83,   97,   85],\n",
              "                      [ 107,   64,   97,   24,   98, -127,  -20,  -17,  -69,   38],\n",
              "                      [  98,  -87,  -66,  -42,  100, -110,  127,  -79,  -19,  -16],\n",
              "                      [ -74,  127,   -8, -112, -101,   23,   41, -100,   31, -115],\n",
              "                      [  -3,   84,  -16,  -56,   -7,   68,  -96,   11,  127,   -2],\n",
              "                      [  93, -127, -117,  -64,   76,   85, -104,   53,  -25,   41],\n",
              "                      [ 123, -127,   23,   79,   11,  -79,  -24,  -39,  102,  117],\n",
              "                      [ -51, -127,  -41,  -71,  110,  122,   67,  -11, -125,    9],\n",
              "                      [ -50,    1,  -60,  -13,   73,  127,  106,  -70,   84,   84]],\n",
              "                     device='cuda:0', dtype=torch.int8)),\n",
              "             ('bias',\n",
              "              tensor([ 0.1269,  0.2999,  0.0252, -0.0380, -0.1788, -0.0704,  0.1124, -0.2233,\n",
              "                       0.0653, -0.0854], device='cuda:0')),\n",
              "             ('SCB',\n",
              "              tensor([0.3071, 0.2515, 0.2786, 0.3098, 0.2197, 0.2075, 0.2856, 0.3062, 0.3105,\n",
              "                      0.3123], device='cuda:0')),\n",
              "             ('weight_format', tensor(0, dtype=torch.uint8))])"
            ]
          },
          "execution_count": 64,
          "metadata": {},
          "output_type": "execute_result"
        }
      ],
      "source": [
        "int8_layer = int8_layer.to(0) # Quantization happens here\n",
        "int8_state = int8_layer.state_dict()\n",
        "int8_state"
      ],
      "id": "37Wat9EKa5lS"
    },
    {
      "cell_type": "markdown",
      "metadata": {
        "id": "-vL6WjnCa5lS"
      },
      "source": [
        "#### 4-bit Quantization\n",
        "\n",
        "\"*QLoRA is a finetuning method that quantizes a model to 4-bits and adds a set of low-rank adaptation (LoRA) weights to the model and tuning them through the quantized weights. This method also introduces a new data type, 4-bit NormalFloat (LinearNF4) in addition to the standard Float4 data type (LinearFP4). LinearNF4 is a quantization data type for normally distributed data and can improve performance.*\"\n",
        "\n",
        "Source: [4-bit quantization](https://huggingface.co/docs/bitsandbytes/en/reference/nn/linear4bit)\n",
        "\n",
        "****\n",
        "**Summary of \"4-Bit Quantization\"**\n",
        "- squeeze the most of a 4-bit quantized model by using the normal float (NF4) type and double quantization\n",
        "  ```python\n",
        "  supported = torch.cuda.is_bf16_supported(including_emulation=False)\n",
        "  compute_dtype = (torch.bfloat16 if supported else torch.float32)\n",
        "  nf4_config = BitsAndBytesConfig(\n",
        "     load_in_4bit=True,\n",
        "     bnb_4bit_quant_type=\"nf4\",\n",
        "     bnb_4bit_use_double_quant=True,\n",
        "     bnb_4bit_compute_dtype=compute_dtype\n",
        "  )\n",
        "  model = AutoModelForCausalLM.from_pretrained(repo_id,\n",
        "                                               device_map='cuda:0',\n",
        "                                               torch_dtype=torch.float32,\n",
        "                                               quantization_config=nf4_config)\n",
        "  ```\n",
        "- computation happens (inside the quantized layers) in the specified type (`bnb_4bit_compute_dtype`):\n",
        "FP32 is better than BF16, which is better than FP16.\n",
        "****"
      ],
      "id": "-vL6WjnCa5lS"
    },
    {
      "cell_type": "code",
      "execution_count": null,
      "metadata": {
        "id": "p2rYeA6ta5lS"
      },
      "outputs": [],
      "source": [
        "supported = torch.cuda.is_bf16_supported(including_emulation=False)\n",
        "compute_dtype = (torch.bfloat16 if supported else torch.float32)\n",
        "\n",
        "nf4_config = BitsAndBytesConfig(\n",
        "   load_in_4bit=True,\n",
        "   bnb_4bit_quant_type=\"nf4\",\n",
        "   bnb_4bit_use_double_quant=True,\n",
        "   bnb_4bit_compute_dtype=compute_dtype\n",
        ")"
      ],
      "id": "p2rYeA6ta5lS"
    },
    {
      "cell_type": "markdown",
      "metadata": {
        "id": "Fu7OQO7Ya5lS"
      },
      "source": [
        "**The Secret Lives of `Dtypes`**\n",
        "\n",
        "| Regular Model | Quantized Model |\n",
        "|---|---|\n",
        "| ![](https://github.com/dvgodoy/FineTuningLLMs/blob/main/images/ch2/type_flow_regular.png?raw=True) | ![](https://github.com/dvgodoy/FineTuningLLMs/blob/main/images/ch2/type_flow_qt.png?raw=True) |\n",
        "| <center>Figure 2.6 - Data types flowing through a regular model</center> | <center>Figure 2.7 - Data types flowing through a quantized model</center> |"
      ],
      "id": "Fu7OQO7Ya5lS"
    },
    {
      "cell_type": "code",
      "execution_count": null,
      "metadata": {
        "id": "kHaDuP4Ca5lS",
        "outputId": "b6496f22-f7e9-4dde-9d89-99a8cdede260"
      },
      "outputs": [
        {
          "name": "stdout",
          "output_type": "stream",
          "text": [
            "264.15104\n",
            "[(torch.float32, 242), (torch.uint8, 146)]\n"
          ]
        }
      ],
      "source": [
        "model_q4 = AutoModelForCausalLM.from_pretrained(\"facebook/opt-350m\",\n",
        "                                                device_map='cuda:0',\n",
        "                                                torch_dtype=torch.float32,\n",
        "                                                quantization_config=nf4_config)\n",
        "print(model_q4.get_memory_footprint()/1e6)\n",
        "print(get_parm_dtypes(model_q4.parameters()))"
      ],
      "id": "kHaDuP4Ca5lS"
    },
    {
      "cell_type": "code",
      "execution_count": null,
      "metadata": {
        "id": "V982H_CCa5lS",
        "outputId": "569b3380-8606-4918-c4ba-82266593e267"
      },
      "outputs": [
        {
          "data": {
            "text/plain": [
              "tensor(4.7016, device='cuda:0', grad_fn=<NllLossBackward0>)"
            ]
          },
          "execution_count": 73,
          "metadata": {},
          "output_type": "execute_result"
        }
      ],
      "source": [
        "out = model_q4(**batch)\n",
        "out.loss"
      ],
      "id": "V982H_CCa5lS"
    },
    {
      "cell_type": "code",
      "execution_count": null,
      "metadata": {
        "id": "zo8a2l-Ra5lS",
        "outputId": "a1b65e96-d65c-48f9-de39-9259b68e98f7"
      },
      "outputs": [
        {
          "data": {
            "text/plain": [
              "OPTDecoderLayer(\n",
              "  (self_attn): OPTAttention(\n",
              "    (k_proj): Linear4bit(in_features=1024, out_features=1024, bias=True)\n",
              "    (v_proj): Linear4bit(in_features=1024, out_features=1024, bias=True)\n",
              "    (q_proj): Linear4bit(in_features=1024, out_features=1024, bias=True)\n",
              "    (out_proj): Linear4bit(in_features=1024, out_features=1024, bias=True)\n",
              "  )\n",
              "  (activation_fn): ReLU()\n",
              "  (self_attn_layer_norm): LayerNorm((1024,), eps=1e-05, elementwise_affine=True)\n",
              "  (fc1): Linear4bit(in_features=1024, out_features=4096, bias=True)\n",
              "  (fc2): Linear4bit(in_features=4096, out_features=1024, bias=True)\n",
              "  (final_layer_norm): LayerNorm((1024,), eps=1e-05, elementwise_affine=True)\n",
              ")"
            ]
          },
          "execution_count": 60,
          "metadata": {},
          "output_type": "execute_result"
        }
      ],
      "source": [
        "dec_layer = model_q4.model.decoder.layers[0]\n",
        "dec_layer"
      ],
      "id": "zo8a2l-Ra5lS"
    },
    {
      "cell_type": "code",
      "execution_count": null,
      "metadata": {
        "id": "6Gxh_4dCa5lT",
        "outputId": "70ee394b-53ee-4b08-f420-6f4e9e0d57b3"
      },
      "outputs": [
        {
          "data": {
            "text/plain": [
              "Linear4bit(in_features=1024, out_features=1024, bias=True)"
            ]
          },
          "execution_count": 62,
          "metadata": {},
          "output_type": "execute_result"
        }
      ],
      "source": [
        "q4_layer = dec_layer.self_attn.k_proj\n",
        "q4_layer"
      ],
      "id": "6Gxh_4dCa5lT"
    },
    {
      "cell_type": "code",
      "execution_count": null,
      "metadata": {
        "id": "2Rz6fN1Xa5lT",
        "outputId": "c52dd8cf-4856-4989-f056-9cf138e37e65"
      },
      "outputs": [
        {
          "data": {
            "text/plain": [
              "OrderedDict([('weight',\n",
              "              tensor([[ 32],\n",
              "                      [ 29],\n",
              "                      [208],\n",
              "                      ...,\n",
              "                      [ 66],\n",
              "                      [ 34],\n",
              "                      [172]], device='cuda:0', dtype=torch.uint8)),\n",
              "             ('bias',\n",
              "              tensor([-0.0134,  0.0082,  0.0161,  ..., -0.0242, -0.0150,  0.0203],\n",
              "                     device='cuda:0', dtype=torch.float16)),\n",
              "             ('weight.absmax',\n",
              "              tensor([230, 230,  30,  ...,   1,  26, 191], device='cuda:0',\n",
              "                     dtype=torch.uint8)),\n",
              "             ('weight.quant_map',\n",
              "              tensor([-1.0000, -0.6962, -0.5251, -0.3949, -0.2844, -0.1848, -0.0911,  0.0000,\n",
              "                       0.0796,  0.1609,  0.2461,  0.3379,  0.4407,  0.5626,  0.7230,  1.0000],\n",
              "                     device='cuda:0')),\n",
              "             ('weight.nested_absmax',\n",
              "              tensor([0.0077, 0.0142, 0.0153, 0.0138, 0.0399, 0.0409, 0.0417, 0.0426, 0.0053,\n",
              "                      0.0053, 0.0053, 0.0053, 0.0051, 0.0051, 0.0051, 0.0053, 0.0195, 0.0269,\n",
              "                      0.0223, 0.0195, 0.0053, 0.0053, 0.0054, 0.0054, 0.0317, 0.0315, 0.0306,\n",
              "                      0.0320, 0.0262, 0.0265, 0.0230, 0.0296, 0.0051, 0.0065, 0.0050, 0.0050,\n",
              "                      0.0051, 0.0053, 0.0050, 0.0051, 0.0056, 0.0056, 0.0056, 0.0056, 0.0428,\n",
              "                      0.0410, 0.0405, 0.0422, 0.0397, 0.0402, 0.0394, 0.0414, 0.0204, 0.0106,\n",
              "                      0.0140, 0.0078, 0.0406, 0.0349, 0.0359, 0.0418, 0.0503, 0.0499, 0.0470,\n",
              "                      0.0458], device='cuda:0')),\n",
              "             ('weight.nested_quant_map',\n",
              "              tensor([-9.9297e-01, -9.7891e-01, -9.6484e-01, -9.5078e-01, -9.3672e-01,\n",
              "                      -9.2266e-01, -9.0859e-01, -8.9453e-01, -8.8047e-01, -8.6641e-01,\n",
              "                      -8.5234e-01, -8.3828e-01, -8.2422e-01, -8.1016e-01, -7.9609e-01,\n",
              "                      -7.8203e-01, -7.6797e-01, -7.5391e-01, -7.3984e-01, -7.2578e-01,\n",
              "                      -7.1172e-01, -6.9766e-01, -6.8359e-01, -6.6953e-01, -6.5547e-01,\n",
              "                      -6.4141e-01, -6.2734e-01, -6.1328e-01, -5.9922e-01, -5.8516e-01,\n",
              "                      -5.7109e-01, -5.5703e-01, -5.4297e-01, -5.2891e-01, -5.1484e-01,\n",
              "                      -5.0078e-01, -4.8672e-01, -4.7266e-01, -4.5859e-01, -4.4453e-01,\n",
              "                      -4.3047e-01, -4.1641e-01, -4.0234e-01, -3.8828e-01, -3.7422e-01,\n",
              "                      -3.6016e-01, -3.4609e-01, -3.3203e-01, -3.1797e-01, -3.0391e-01,\n",
              "                      -2.8984e-01, -2.7578e-01, -2.6172e-01, -2.4766e-01, -2.3359e-01,\n",
              "                      -2.1953e-01, -2.0547e-01, -1.9141e-01, -1.7734e-01, -1.6328e-01,\n",
              "                      -1.4922e-01, -1.3516e-01, -1.2109e-01, -1.0703e-01, -9.8594e-02,\n",
              "                      -9.5781e-02, -9.2969e-02, -9.0156e-02, -8.7344e-02, -8.4531e-02,\n",
              "                      -8.1719e-02, -7.8906e-02, -7.6094e-02, -7.3281e-02, -7.0469e-02,\n",
              "                      -6.7656e-02, -6.4844e-02, -6.2031e-02, -5.9219e-02, -5.6406e-02,\n",
              "                      -5.3594e-02, -5.0781e-02, -4.7969e-02, -4.5156e-02, -4.2344e-02,\n",
              "                      -3.9531e-02, -3.6719e-02, -3.3906e-02, -3.1094e-02, -2.8281e-02,\n",
              "                      -2.5469e-02, -2.2656e-02, -1.9844e-02, -1.7031e-02, -1.4219e-02,\n",
              "                      -1.1406e-02, -9.7187e-03, -9.1562e-03, -8.5938e-03, -8.0312e-03,\n",
              "                      -7.4687e-03, -6.9063e-03, -6.3437e-03, -5.7813e-03, -5.2188e-03,\n",
              "                      -4.6562e-03, -4.0937e-03, -3.5312e-03, -2.9687e-03, -2.4062e-03,\n",
              "                      -1.8438e-03, -1.2812e-03, -9.4375e-04, -8.3125e-04, -7.1875e-04,\n",
              "                      -6.0625e-04, -4.9375e-04, -3.8125e-04, -2.6875e-04, -1.5625e-04,\n",
              "                      -8.8750e-05, -6.6250e-05, -4.3750e-05, -2.1250e-05, -7.7500e-06,\n",
              "                      -3.2500e-06, -5.5000e-07,  0.0000e+00,  5.5000e-07,  3.2500e-06,\n",
              "                       7.7500e-06,  2.1250e-05,  4.3750e-05,  6.6250e-05,  8.8750e-05,\n",
              "                       1.5625e-04,  2.6875e-04,  3.8125e-04,  4.9375e-04,  6.0625e-04,\n",
              "                       7.1875e-04,  8.3125e-04,  9.4375e-04,  1.2812e-03,  1.8438e-03,\n",
              "                       2.4062e-03,  2.9687e-03,  3.5312e-03,  4.0937e-03,  4.6562e-03,\n",
              "                       5.2188e-03,  5.7813e-03,  6.3437e-03,  6.9063e-03,  7.4687e-03,\n",
              "                       8.0312e-03,  8.5938e-03,  9.1562e-03,  9.7187e-03,  1.1406e-02,\n",
              "                       1.4219e-02,  1.7031e-02,  1.9844e-02,  2.2656e-02,  2.5469e-02,\n",
              "                       2.8281e-02,  3.1094e-02,  3.3906e-02,  3.6719e-02,  3.9531e-02,\n",
              "                       4.2344e-02,  4.5156e-02,  4.7969e-02,  5.0781e-02,  5.3594e-02,\n",
              "                       5.6406e-02,  5.9219e-02,  6.2031e-02,  6.4844e-02,  6.7656e-02,\n",
              "                       7.0469e-02,  7.3281e-02,  7.6094e-02,  7.8906e-02,  8.1719e-02,\n",
              "                       8.4531e-02,  8.7344e-02,  9.0156e-02,  9.2969e-02,  9.5781e-02,\n",
              "                       9.8594e-02,  1.0703e-01,  1.2109e-01,  1.3516e-01,  1.4922e-01,\n",
              "                       1.6328e-01,  1.7734e-01,  1.9141e-01,  2.0547e-01,  2.1953e-01,\n",
              "                       2.3359e-01,  2.4766e-01,  2.6172e-01,  2.7578e-01,  2.8984e-01,\n",
              "                       3.0391e-01,  3.1797e-01,  3.3203e-01,  3.4609e-01,  3.6016e-01,\n",
              "                       3.7422e-01,  3.8828e-01,  4.0234e-01,  4.1641e-01,  4.3047e-01,\n",
              "                       4.4453e-01,  4.5859e-01,  4.7266e-01,  4.8672e-01,  5.0078e-01,\n",
              "                       5.1484e-01,  5.2891e-01,  5.4297e-01,  5.5703e-01,  5.7109e-01,\n",
              "                       5.8516e-01,  5.9922e-01,  6.1328e-01,  6.2734e-01,  6.4141e-01,\n",
              "                       6.5547e-01,  6.6953e-01,  6.8359e-01,  6.9766e-01,  7.1172e-01,\n",
              "                       7.2578e-01,  7.3984e-01,  7.5391e-01,  7.6797e-01,  7.8203e-01,\n",
              "                       7.9609e-01,  8.1016e-01,  8.2422e-01,  8.3828e-01,  8.5234e-01,\n",
              "                       8.6641e-01,  8.8047e-01,  8.9453e-01,  9.0859e-01,  9.2266e-01,\n",
              "                       9.3672e-01,  9.5078e-01,  9.6484e-01,  9.7891e-01,  9.9297e-01,\n",
              "                       1.0000e+00], device='cuda:0')),\n",
              "             ('weight.quant_state.bitsandbytes__nf4',\n",
              "              tensor([123,  34, 113, 117,  97, 110, 116,  95, 116, 121, 112, 101,  34,  58,\n",
              "                       32,  34, 110, 102,  52,  34,  44,  32,  34,  98, 108, 111,  99, 107,\n",
              "                      115, 105, 122, 101,  34,  58,  32,  54,  52,  44,  32,  34, 100, 116,\n",
              "                      121, 112, 101,  34,  58,  32,  34, 102, 108, 111,  97, 116,  49,  54,\n",
              "                       34,  44,  32,  34, 115, 104,  97, 112, 101,  34,  58,  32,  91,  49,\n",
              "                       48,  50,  52,  44,  32,  49,  48,  50,  52,  93,  44,  32,  34, 110,\n",
              "                      101, 115, 116, 101, 100,  95,  98, 108, 111,  99, 107, 115, 105, 122,\n",
              "                      101,  34,  58,  32,  50,  53,  54,  44,  32,  34, 110, 101, 115, 116,\n",
              "                      101, 100,  95, 100, 116, 121, 112, 101,  34,  58,  32,  34, 102, 108,\n",
              "                      111,  97, 116,  51,  50,  34,  44,  32,  34, 110, 101, 115, 116, 101,\n",
              "                      100,  95, 111, 102, 102, 115, 101, 116,  34,  58,  32,  48,  46,  49,\n",
              "                       49,  57,  57,  56,  49,  55,  50,  49,  48,  52,  51,  53,  56,  54,\n",
              "                       55,  51, 125], dtype=torch.uint8))])"
            ]
          },
          "execution_count": 50,
          "metadata": {},
          "output_type": "execute_result"
        }
      ],
      "source": [
        "q4_layer.state_dict()"
      ],
      "id": "2Rz6fN1Xa5lT"
    },
    {
      "cell_type": "markdown",
      "metadata": {
        "id": "l3beSrJqa5lT"
      },
      "source": [
        "##### FP4 vs NF4 Layers"
      ],
      "id": "l3beSrJqa5lT"
    },
    {
      "cell_type": "code",
      "execution_count": null,
      "metadata": {
        "id": "yu4vnCyUa5lT",
        "outputId": "9532c7b3-e5af-4d9f-832e-e1b2165b6c35"
      },
      "outputs": [
        {
          "name": "stderr",
          "output_type": "stream",
          "text": [
            "The installed version of bitsandbytes was compiled without GPU support. 8-bit optimizers, 8-bit multiplication, and GPU quantization are unavailable.\n"
          ]
        },
        {
          "data": {
            "text/plain": [
              "Linear(in_features=10, out_features=10, bias=True)"
            ]
          },
          "execution_count": 127,
          "metadata": {},
          "output_type": "execute_result"
        }
      ],
      "source": [
        "n_in = 10\n",
        "n_out = 10\n",
        "torch.manual_seed(11)\n",
        "fp16_layer = nn.Linear(n_in, n_out)\n",
        "fp16_layer"
      ],
      "id": "yu4vnCyUa5lT"
    },
    {
      "cell_type": "code",
      "execution_count": null,
      "metadata": {
        "id": "v8ChZm7Ia5lT",
        "outputId": "2c7cd25a-e024-48cb-a3b5-222c2af65c0b"
      },
      "outputs": [
        {
          "data": {
            "text/plain": [
              "<All keys matched successfully>"
            ]
          },
          "execution_count": 65,
          "metadata": {},
          "output_type": "execute_result"
        }
      ],
      "source": [
        "fp4_layer = LinearFP4(n_in, n_out)\n",
        "fp4_layer.load_state_dict(fp16_layer.state_dict())\n",
        "\n",
        "nf4_model = LinearNF4(n_in, n_out)\n",
        "nf4_model.load_state_dict(fp16_layer.state_dict())"
      ],
      "id": "v8ChZm7Ia5lT"
    },
    {
      "cell_type": "code",
      "execution_count": null,
      "metadata": {
        "id": "I4XtpcnOa5lT",
        "outputId": "1ac9110f-d6c2-4f18-e82d-95891f6cd92f"
      },
      "outputs": [
        {
          "data": {
            "text/plain": [
              "(tensor([ 0.0000,  0.0052,  0.6667,  1.0000,  0.3333,  0.5000,  0.1667,  0.2500,\n",
              "          0.0000, -0.0052, -0.6667, -1.0000, -0.3333, -0.5000, -0.1667, -0.2500],\n",
              "        device='cuda:0'),\n",
              " torch.Size([50, 1]))"
            ]
          },
          "execution_count": 66,
          "metadata": {},
          "output_type": "execute_result"
        }
      ],
      "source": [
        "fp4_layer = fp4_layer.to(0) # Quantization happens here\n",
        "fp4_state = fp4_layer.state_dict()\n",
        "\n",
        "fp4_state['weight.quant_map'], fp4_state['weight'].shape"
      ],
      "id": "I4XtpcnOa5lT"
    },
    {
      "cell_type": "code",
      "execution_count": null,
      "metadata": {
        "id": "JeZn5H7ia5lT",
        "outputId": "df4a4c0d-d636-47a6-e927-9f18783f0dda"
      },
      "outputs": [
        {
          "data": {
            "text/plain": [
              "Text(0.5, 1.0, 'FP4 quantization')"
            ]
          },
          "execution_count": 52,
          "metadata": {},
          "output_type": "execute_result"
        },
        {
          "data": {
            "image/png": "[encoded data removed]",
            "text/plain": [
              "<Figure size 600x50 with 1 Axes>"
            ]
          },
          "metadata": {},
          "output_type": "display_data"
        }
      ],
      "source": [
        "fig, ax = plt.subplots(1, 1, figsize=(6, .5))\n",
        "ax.scatter(x=sorted(fp4_state['weight.quant_map'].tolist()), y=[0]*16)\n",
        "ax.set_yticks([])\n",
        "ax.set_title('FP4 quantization')"
      ],
      "id": "JeZn5H7ia5lT"
    },
    {
      "cell_type": "code",
      "execution_count": null,
      "metadata": {
        "id": "yRQwPalca5lT",
        "outputId": "8ccf0502-f0bc-4238-e4c5-908d7ff518c9"
      },
      "outputs": [
        {
          "data": {
            "text/plain": [
              "(tensor([-1.0000, -0.6962, -0.5251, -0.3949, -0.2844, -0.1848, -0.0911,  0.0000,\n",
              "          0.0796,  0.1609,  0.2461,  0.3379,  0.4407,  0.5626,  0.7230,  1.0000],\n",
              "        device='cuda:0'),\n",
              " torch.Size([50, 1]))"
            ]
          },
          "execution_count": 67,
          "metadata": {},
          "output_type": "execute_result"
        }
      ],
      "source": [
        "nf4_model = nf4_model.to(0) # Quantization happens here\n",
        "nf4_state = nf4_model.state_dict()\n",
        "\n",
        "nf4_state['weight.quant_map'], nf4_state['weight'].shape"
      ],
      "id": "yRQwPalca5lT"
    },
    {
      "cell_type": "code",
      "execution_count": null,
      "metadata": {
        "id": "gimZ4RTia5lT",
        "outputId": "9efc2f07-80ce-4dfd-a461-ecba815e4a95"
      },
      "outputs": [
        {
          "data": {
            "text/plain": [
              "Text(0.5, 1.0, 'NF4 quantization')"
            ]
          },
          "execution_count": 55,
          "metadata": {},
          "output_type": "execute_result"
        },
        {
          "data": {
            "image/png": "[encoded data removed]",
            "text/plain": [
              "<Figure size 600x50 with 1 Axes>"
            ]
          },
          "metadata": {},
          "output_type": "display_data"
        }
      ],
      "source": [
        "fig, ax = plt.subplots(1, 1, figsize=(6, .5))\n",
        "ax.scatter(x=sorted(nf4_state['weight.quant_map'].tolist()), y=[0]*16)\n",
        "ax.set_yticks([])\n",
        "ax.set_title('NF4 quantization')"
      ],
      "id": "gimZ4RTia5lT"
    },
    {
      "cell_type": "markdown",
      "metadata": {
        "id": "tEQxunHda5lT"
      },
      "source": [
        "### Coming Up in \"Fine-Tuning LLMs\"\n",
        "\n",
        "As huge linear layers are being replaced by their quantized versions to reduce the model’s memory footprint, a\n",
        "new issue arises. These quantized layers cannot be easily updated, thus rendering fine-tuning next to\n",
        "impossible. Could a new kind of layer be the solution to this conundrum? Find out in the next thrilling chapter\n",
        "of \"Fine-Tuning LLMs.\""
      ],
      "id": "tEQxunHda5lT"
    }
  ],
  "metadata": {
    "kernelspec": {
      "display_name": "Python 3",
      "language": "python",
      "name": "python3"
    },
    "language_info": {
      "codemirror_mode": {
        "name": "ipython",
        "version": 3
      },
      "file_extension": ".py",
      "mimetype": "text/x-python",
      "name": "python",
      "nbconvert_exporter": "python",
      "pygments_lexer": "ipython3",
      "version": "3.7.4"
    },
    "colab": {
      "provenance": []
    }
  },
  "nbformat": 4,
  "nbformat_minor": 5
}